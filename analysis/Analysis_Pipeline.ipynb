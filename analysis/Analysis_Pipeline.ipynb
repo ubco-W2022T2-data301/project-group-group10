{
 "cells": [
  {
   "cell_type": "markdown",
   "id": "00b604ce-e022-4c0d-ac8f-d464bd00858c",
   "metadata": {},
   "source": [
    "# Research question\n",
    "\n",
    "## What is the relationship between region, smoking status, and number of children on an individual's BMI?"
   ]
  },
  {
   "cell_type": "markdown",
   "id": "af0aaf10-a879-4bde-8b33-48eeaf12a215",
   "metadata": {},
   "source": [
    "# Data Analysis Pipeline"
   ]
  },
  {
   "cell_type": "markdown",
   "id": "048a4909-0ad8-4a97-9680-acaf42fce602",
   "metadata": {},
   "source": [
    "## 1. Load Data"
   ]
  },
  {
   "cell_type": "code",
   "execution_count": 1,
   "id": "9cebd02b-c64d-417e-bb99-49f33bdbe7b6",
   "metadata": {},
   "outputs": [],
   "source": [
    "import pandas as pd "
   ]
  },
  {
   "cell_type": "code",
   "execution_count": 2,
   "id": "e5edf93a-77ef-4f41-ac34-a7958174d52f",
   "metadata": {},
   "outputs": [
    {
     "data": {
      "text/html": [
       "<div>\n",
       "<style scoped>\n",
       "    .dataframe tbody tr th:only-of-type {\n",
       "        vertical-align: middle;\n",
       "    }\n",
       "\n",
       "    .dataframe tbody tr th {\n",
       "        vertical-align: top;\n",
       "    }\n",
       "\n",
       "    .dataframe thead th {\n",
       "        text-align: right;\n",
       "    }\n",
       "</style>\n",
       "<table border=\"1\" class=\"dataframe\">\n",
       "  <thead>\n",
       "    <tr style=\"text-align: right;\">\n",
       "      <th></th>\n",
       "      <th>age</th>\n",
       "      <th>sex</th>\n",
       "      <th>bmi</th>\n",
       "      <th>children</th>\n",
       "      <th>smoker</th>\n",
       "      <th>region</th>\n",
       "      <th>charges</th>\n",
       "    </tr>\n",
       "  </thead>\n",
       "  <tbody>\n",
       "    <tr>\n",
       "      <th>0</th>\n",
       "      <td>19</td>\n",
       "      <td>female</td>\n",
       "      <td>27.900</td>\n",
       "      <td>0</td>\n",
       "      <td>yes</td>\n",
       "      <td>southwest</td>\n",
       "      <td>16884.92400</td>\n",
       "    </tr>\n",
       "    <tr>\n",
       "      <th>1</th>\n",
       "      <td>18</td>\n",
       "      <td>male</td>\n",
       "      <td>33.770</td>\n",
       "      <td>1</td>\n",
       "      <td>no</td>\n",
       "      <td>southeast</td>\n",
       "      <td>1725.55230</td>\n",
       "    </tr>\n",
       "    <tr>\n",
       "      <th>2</th>\n",
       "      <td>28</td>\n",
       "      <td>male</td>\n",
       "      <td>33.000</td>\n",
       "      <td>3</td>\n",
       "      <td>no</td>\n",
       "      <td>southeast</td>\n",
       "      <td>4449.46200</td>\n",
       "    </tr>\n",
       "    <tr>\n",
       "      <th>3</th>\n",
       "      <td>33</td>\n",
       "      <td>male</td>\n",
       "      <td>22.705</td>\n",
       "      <td>0</td>\n",
       "      <td>no</td>\n",
       "      <td>northwest</td>\n",
       "      <td>21984.47061</td>\n",
       "    </tr>\n",
       "    <tr>\n",
       "      <th>4</th>\n",
       "      <td>32</td>\n",
       "      <td>male</td>\n",
       "      <td>28.880</td>\n",
       "      <td>0</td>\n",
       "      <td>no</td>\n",
       "      <td>northwest</td>\n",
       "      <td>3866.85520</td>\n",
       "    </tr>\n",
       "  </tbody>\n",
       "</table>\n",
       "</div>"
      ],
      "text/plain": [
       "   age     sex     bmi  children smoker     region      charges\n",
       "0   19  female  27.900         0    yes  southwest  16884.92400\n",
       "1   18    male  33.770         1     no  southeast   1725.55230\n",
       "2   28    male  33.000         3     no  southeast   4449.46200\n",
       "3   33    male  22.705         0     no  northwest  21984.47061\n",
       "4   32    male  28.880         0     no  northwest   3866.85520"
      ]
     },
     "execution_count": 2,
     "metadata": {},
     "output_type": "execute_result"
    }
   ],
   "source": [
    "df = pd.read_csv(\"../data/raw/insurance.csv\")\n",
    "df.head()"
   ]
  },
  {
   "cell_type": "markdown",
   "id": "ea69e145-7bc3-4422-bfcc-d658f11f7348",
   "metadata": {},
   "source": [
    "### Check file type and encoding"
   ]
  },
  {
   "cell_type": "code",
   "execution_count": 3,
   "id": "1df3b0a3-611a-4c86-8b35-6a2e55d613c2",
   "metadata": {},
   "outputs": [
    {
     "name": "stdout",
     "output_type": "stream",
     "text": [
      "Requirement already satisfied: chardet in c:\\users\\david\\miniconda3\\lib\\site-packages (5.1.0)\n",
      "Note: you may need to restart the kernel to use updated packages.\n"
     ]
    }
   ],
   "source": [
    "pip install chardet"
   ]
  },
  {
   "cell_type": "code",
   "execution_count": 4,
   "id": "7c34263d-4f83-4517-a79e-d1ae88b0648f",
   "metadata": {},
   "outputs": [],
   "source": [
    "import os\n",
    "import chardet\n",
    "import csv\n",
    "import pandas as pd\n",
    "import matplotlib.pyplot as plt"
   ]
  },
  {
   "cell_type": "code",
   "execution_count": 5,
   "id": "9986e1ea-e572-4fbd-84ca-9200fc25a96b",
   "metadata": {},
   "outputs": [
    {
     "data": {
      "text/plain": [
       "'File type: .csv'"
      ]
     },
     "execution_count": 5,
     "metadata": {},
     "output_type": "execute_result"
    }
   ],
   "source": [
    "file_path = \"../data/raw/insurance.csv\"\n",
    "_, extension = os.path.splitext(file_path)\n",
    "file_type = extension.lower()\n",
    "f\"File type: {file_type}\"\n"
   ]
  },
  {
   "cell_type": "code",
   "execution_count": 6,
   "id": "21b6b8f3-c7e9-44f4-baad-19406245f613",
   "metadata": {},
   "outputs": [
    {
     "name": "stdout",
     "output_type": "stream",
     "text": [
      "File encoding: ascii\n"
     ]
    }
   ],
   "source": [
    "file_path = \"../data/raw/insurance.csv\"\n",
    "\n",
    "with open(file_path, 'rb') as file:\n",
    "    result = chardet.detect(file.read())\n",
    "file_encoding = result['encoding']\n",
    "print(f\"File encoding: {file_encoding}\")\n",
    "\n"
   ]
  },
  {
   "cell_type": "markdown",
   "id": "ac7a6ba3-897d-4c4d-8d1b-71bebcbed46a",
   "metadata": {},
   "source": [
    "### Check delimiters"
   ]
  },
  {
   "cell_type": "code",
   "execution_count": 7,
   "id": "513c9a9b-7063-4c3e-88bd-3e52d76d0fc9",
   "metadata": {},
   "outputs": [
    {
     "name": "stdout",
     "output_type": "stream",
     "text": [
      "Delimiter: ,\n"
     ]
    }
   ],
   "source": [
    "\n",
    "sample_size = 1024\n",
    "with open(file_path, 'r', newline='', encoding=file_encoding) as file:\n",
    "    sample = file.read(sample_size)\n",
    "\n",
    "sniffer = csv.Sniffer()\n",
    "delimiter = sniffer.sniff(sample).delimiter\n",
    "print(f\"Delimiter: {delimiter}\")\n",
    "\n"
   ]
  },
  {
   "cell_type": "markdown",
   "id": "d00622b0-69d3-438c-ab96-905c9e5dd6d9",
   "metadata": {},
   "source": [
    "### Skip rows"
   ]
  },
  {
   "cell_type": "markdown",
   "id": "bef7cf89-ce26-4b47-a5de-fa0cc5ae1af5",
   "metadata": {},
   "source": [
    "Running dropna does not remove any rows"
   ]
  },
  {
   "cell_type": "code",
   "execution_count": 8,
   "id": "93f28fb1-6236-49e4-afe5-58d13050385a",
   "metadata": {},
   "outputs": [
    {
     "data": {
      "text/plain": [
       "(1338, 7)"
      ]
     },
     "execution_count": 8,
     "metadata": {},
     "output_type": "execute_result"
    }
   ],
   "source": [
    "df.shape"
   ]
  },
  {
   "cell_type": "code",
   "execution_count": 9,
   "id": "83bf7856-debe-4f5c-8ef9-e1a432f39c8e",
   "metadata": {},
   "outputs": [
    {
     "data": {
      "text/html": [
       "<div>\n",
       "<style scoped>\n",
       "    .dataframe tbody tr th:only-of-type {\n",
       "        vertical-align: middle;\n",
       "    }\n",
       "\n",
       "    .dataframe tbody tr th {\n",
       "        vertical-align: top;\n",
       "    }\n",
       "\n",
       "    .dataframe thead th {\n",
       "        text-align: right;\n",
       "    }\n",
       "</style>\n",
       "<table border=\"1\" class=\"dataframe\">\n",
       "  <thead>\n",
       "    <tr style=\"text-align: right;\">\n",
       "      <th></th>\n",
       "      <th>age</th>\n",
       "      <th>sex</th>\n",
       "      <th>bmi</th>\n",
       "      <th>children</th>\n",
       "      <th>smoker</th>\n",
       "      <th>region</th>\n",
       "      <th>charges</th>\n",
       "    </tr>\n",
       "  </thead>\n",
       "  <tbody>\n",
       "    <tr>\n",
       "      <th>0</th>\n",
       "      <td>19</td>\n",
       "      <td>female</td>\n",
       "      <td>27.900</td>\n",
       "      <td>0</td>\n",
       "      <td>yes</td>\n",
       "      <td>southwest</td>\n",
       "      <td>16884.92400</td>\n",
       "    </tr>\n",
       "    <tr>\n",
       "      <th>1</th>\n",
       "      <td>18</td>\n",
       "      <td>male</td>\n",
       "      <td>33.770</td>\n",
       "      <td>1</td>\n",
       "      <td>no</td>\n",
       "      <td>southeast</td>\n",
       "      <td>1725.55230</td>\n",
       "    </tr>\n",
       "    <tr>\n",
       "      <th>2</th>\n",
       "      <td>28</td>\n",
       "      <td>male</td>\n",
       "      <td>33.000</td>\n",
       "      <td>3</td>\n",
       "      <td>no</td>\n",
       "      <td>southeast</td>\n",
       "      <td>4449.46200</td>\n",
       "    </tr>\n",
       "    <tr>\n",
       "      <th>3</th>\n",
       "      <td>33</td>\n",
       "      <td>male</td>\n",
       "      <td>22.705</td>\n",
       "      <td>0</td>\n",
       "      <td>no</td>\n",
       "      <td>northwest</td>\n",
       "      <td>21984.47061</td>\n",
       "    </tr>\n",
       "    <tr>\n",
       "      <th>4</th>\n",
       "      <td>32</td>\n",
       "      <td>male</td>\n",
       "      <td>28.880</td>\n",
       "      <td>0</td>\n",
       "      <td>no</td>\n",
       "      <td>northwest</td>\n",
       "      <td>3866.85520</td>\n",
       "    </tr>\n",
       "    <tr>\n",
       "      <th>...</th>\n",
       "      <td>...</td>\n",
       "      <td>...</td>\n",
       "      <td>...</td>\n",
       "      <td>...</td>\n",
       "      <td>...</td>\n",
       "      <td>...</td>\n",
       "      <td>...</td>\n",
       "    </tr>\n",
       "    <tr>\n",
       "      <th>1333</th>\n",
       "      <td>50</td>\n",
       "      <td>male</td>\n",
       "      <td>30.970</td>\n",
       "      <td>3</td>\n",
       "      <td>no</td>\n",
       "      <td>northwest</td>\n",
       "      <td>10600.54830</td>\n",
       "    </tr>\n",
       "    <tr>\n",
       "      <th>1334</th>\n",
       "      <td>18</td>\n",
       "      <td>female</td>\n",
       "      <td>31.920</td>\n",
       "      <td>0</td>\n",
       "      <td>no</td>\n",
       "      <td>northeast</td>\n",
       "      <td>2205.98080</td>\n",
       "    </tr>\n",
       "    <tr>\n",
       "      <th>1335</th>\n",
       "      <td>18</td>\n",
       "      <td>female</td>\n",
       "      <td>36.850</td>\n",
       "      <td>0</td>\n",
       "      <td>no</td>\n",
       "      <td>southeast</td>\n",
       "      <td>1629.83350</td>\n",
       "    </tr>\n",
       "    <tr>\n",
       "      <th>1336</th>\n",
       "      <td>21</td>\n",
       "      <td>female</td>\n",
       "      <td>25.800</td>\n",
       "      <td>0</td>\n",
       "      <td>no</td>\n",
       "      <td>southwest</td>\n",
       "      <td>2007.94500</td>\n",
       "    </tr>\n",
       "    <tr>\n",
       "      <th>1337</th>\n",
       "      <td>61</td>\n",
       "      <td>female</td>\n",
       "      <td>29.070</td>\n",
       "      <td>0</td>\n",
       "      <td>yes</td>\n",
       "      <td>northwest</td>\n",
       "      <td>29141.36030</td>\n",
       "    </tr>\n",
       "  </tbody>\n",
       "</table>\n",
       "<p>1338 rows × 7 columns</p>\n",
       "</div>"
      ],
      "text/plain": [
       "      age     sex     bmi  children smoker     region      charges\n",
       "0      19  female  27.900         0    yes  southwest  16884.92400\n",
       "1      18    male  33.770         1     no  southeast   1725.55230\n",
       "2      28    male  33.000         3     no  southeast   4449.46200\n",
       "3      33    male  22.705         0     no  northwest  21984.47061\n",
       "4      32    male  28.880         0     no  northwest   3866.85520\n",
       "...   ...     ...     ...       ...    ...        ...          ...\n",
       "1333   50    male  30.970         3     no  northwest  10600.54830\n",
       "1334   18  female  31.920         0     no  northeast   2205.98080\n",
       "1335   18  female  36.850         0     no  southeast   1629.83350\n",
       "1336   21  female  25.800         0     no  southwest   2007.94500\n",
       "1337   61  female  29.070         0    yes  northwest  29141.36030\n",
       "\n",
       "[1338 rows x 7 columns]"
      ]
     },
     "execution_count": 9,
     "metadata": {},
     "output_type": "execute_result"
    }
   ],
   "source": [
    "df.dropna(axis=0)"
   ]
  },
  {
   "cell_type": "markdown",
   "id": "32f4802d-141d-43f2-92aa-afb755635207",
   "metadata": {},
   "source": [
    "## 2. Clean Data"
   ]
  },
  {
   "cell_type": "markdown",
   "id": "c1d67c02-92af-499c-b539-e9feacb0902a",
   "metadata": {},
   "source": [
    "### Drop unneeded columns\n",
    "Drop the column \"charges\" as I am not using that in my analysis"
   ]
  },
  {
   "cell_type": "code",
   "execution_count": 10,
   "id": "610abd02-a30f-456b-a349-a19489a76034",
   "metadata": {},
   "outputs": [
    {
     "data": {
      "text/html": [
       "<div>\n",
       "<style scoped>\n",
       "    .dataframe tbody tr th:only-of-type {\n",
       "        vertical-align: middle;\n",
       "    }\n",
       "\n",
       "    .dataframe tbody tr th {\n",
       "        vertical-align: top;\n",
       "    }\n",
       "\n",
       "    .dataframe thead th {\n",
       "        text-align: right;\n",
       "    }\n",
       "</style>\n",
       "<table border=\"1\" class=\"dataframe\">\n",
       "  <thead>\n",
       "    <tr style=\"text-align: right;\">\n",
       "      <th></th>\n",
       "      <th>age</th>\n",
       "      <th>sex</th>\n",
       "      <th>bmi</th>\n",
       "      <th>children</th>\n",
       "      <th>smoker</th>\n",
       "      <th>region</th>\n",
       "    </tr>\n",
       "  </thead>\n",
       "  <tbody>\n",
       "    <tr>\n",
       "      <th>0</th>\n",
       "      <td>19</td>\n",
       "      <td>female</td>\n",
       "      <td>27.900</td>\n",
       "      <td>0</td>\n",
       "      <td>yes</td>\n",
       "      <td>southwest</td>\n",
       "    </tr>\n",
       "    <tr>\n",
       "      <th>1</th>\n",
       "      <td>18</td>\n",
       "      <td>male</td>\n",
       "      <td>33.770</td>\n",
       "      <td>1</td>\n",
       "      <td>no</td>\n",
       "      <td>southeast</td>\n",
       "    </tr>\n",
       "    <tr>\n",
       "      <th>2</th>\n",
       "      <td>28</td>\n",
       "      <td>male</td>\n",
       "      <td>33.000</td>\n",
       "      <td>3</td>\n",
       "      <td>no</td>\n",
       "      <td>southeast</td>\n",
       "    </tr>\n",
       "    <tr>\n",
       "      <th>3</th>\n",
       "      <td>33</td>\n",
       "      <td>male</td>\n",
       "      <td>22.705</td>\n",
       "      <td>0</td>\n",
       "      <td>no</td>\n",
       "      <td>northwest</td>\n",
       "    </tr>\n",
       "    <tr>\n",
       "      <th>4</th>\n",
       "      <td>32</td>\n",
       "      <td>male</td>\n",
       "      <td>28.880</td>\n",
       "      <td>0</td>\n",
       "      <td>no</td>\n",
       "      <td>northwest</td>\n",
       "    </tr>\n",
       "  </tbody>\n",
       "</table>\n",
       "</div>"
      ],
      "text/plain": [
       "   age     sex     bmi  children smoker     region\n",
       "0   19  female  27.900         0    yes  southwest\n",
       "1   18    male  33.770         1     no  southeast\n",
       "2   28    male  33.000         3     no  southeast\n",
       "3   33    male  22.705         0     no  northwest\n",
       "4   32    male  28.880         0     no  northwest"
      ]
     },
     "execution_count": 10,
     "metadata": {},
     "output_type": "execute_result"
    }
   ],
   "source": [
    "dfdrop = df.drop(columns=['charges'])\n",
    "dfdrop.head(5)"
   ]
  },
  {
   "cell_type": "markdown",
   "id": "58d10a8d-0ad9-4719-aba4-c4e4a4e9c3d4",
   "metadata": {},
   "source": [
    "### Check for incorrect data"
   ]
  },
  {
   "cell_type": "markdown",
   "id": "e503f18e-c573-4ae5-a22f-3d8806604bb8",
   "metadata": {},
   "source": [
    "Check for missing data"
   ]
  },
  {
   "cell_type": "code",
   "execution_count": 11,
   "id": "33ad74df-7196-4d2d-b653-efe72a576f4f",
   "metadata": {},
   "outputs": [
    {
     "data": {
      "text/plain": [
       "age         0\n",
       "sex         0\n",
       "bmi         0\n",
       "children    0\n",
       "smoker      0\n",
       "region      0\n",
       "dtype: int64"
      ]
     },
     "execution_count": 11,
     "metadata": {},
     "output_type": "execute_result"
    }
   ],
   "source": [
    "#There are no missing values\n",
    "\n",
    "dfdrop.isnull().sum()"
   ]
  },
  {
   "cell_type": "markdown",
   "id": "80a97196-ba5f-4958-a056-dabf0debdb4c",
   "metadata": {},
   "source": [
    "Check datatypes"
   ]
  },
  {
   "cell_type": "code",
   "execution_count": 12,
   "id": "93942d03-140c-4d07-8000-f5a8efff2305",
   "metadata": {},
   "outputs": [
    {
     "data": {
      "text/plain": [
       "age           int64\n",
       "sex          object\n",
       "bmi         float64\n",
       "children      int64\n",
       "smoker       object\n",
       "region       object\n",
       "dtype: object"
      ]
     },
     "execution_count": 12,
     "metadata": {},
     "output_type": "execute_result"
    }
   ],
   "source": [
    "#The datatypes are ok\n",
    "\n",
    "dfdrop.dtypes"
   ]
  },
  {
   "cell_type": "markdown",
   "id": "6b7709be-3e56-408f-ba10-230fe7b2a670",
   "metadata": {},
   "source": [
    "Check outliers"
   ]
  },
  {
   "cell_type": "code",
   "execution_count": 13,
   "id": "f52160a4-2667-4c01-8a66-4babe939a55b",
   "metadata": {},
   "outputs": [
    {
     "data": {
      "text/html": [
       "<div>\n",
       "<style scoped>\n",
       "    .dataframe tbody tr th:only-of-type {\n",
       "        vertical-align: middle;\n",
       "    }\n",
       "\n",
       "    .dataframe tbody tr th {\n",
       "        vertical-align: top;\n",
       "    }\n",
       "\n",
       "    .dataframe thead th {\n",
       "        text-align: right;\n",
       "    }\n",
       "</style>\n",
       "<table border=\"1\" class=\"dataframe\">\n",
       "  <thead>\n",
       "    <tr style=\"text-align: right;\">\n",
       "      <th></th>\n",
       "      <th>age</th>\n",
       "      <th>bmi</th>\n",
       "      <th>children</th>\n",
       "    </tr>\n",
       "  </thead>\n",
       "  <tbody>\n",
       "    <tr>\n",
       "      <th>count</th>\n",
       "      <td>1338.000000</td>\n",
       "      <td>1338.000000</td>\n",
       "      <td>1338.000000</td>\n",
       "    </tr>\n",
       "    <tr>\n",
       "      <th>mean</th>\n",
       "      <td>39.207025</td>\n",
       "      <td>30.663397</td>\n",
       "      <td>1.094918</td>\n",
       "    </tr>\n",
       "    <tr>\n",
       "      <th>std</th>\n",
       "      <td>14.049960</td>\n",
       "      <td>6.098187</td>\n",
       "      <td>1.205493</td>\n",
       "    </tr>\n",
       "    <tr>\n",
       "      <th>min</th>\n",
       "      <td>18.000000</td>\n",
       "      <td>15.960000</td>\n",
       "      <td>0.000000</td>\n",
       "    </tr>\n",
       "    <tr>\n",
       "      <th>25%</th>\n",
       "      <td>27.000000</td>\n",
       "      <td>26.296250</td>\n",
       "      <td>0.000000</td>\n",
       "    </tr>\n",
       "    <tr>\n",
       "      <th>50%</th>\n",
       "      <td>39.000000</td>\n",
       "      <td>30.400000</td>\n",
       "      <td>1.000000</td>\n",
       "    </tr>\n",
       "    <tr>\n",
       "      <th>75%</th>\n",
       "      <td>51.000000</td>\n",
       "      <td>34.693750</td>\n",
       "      <td>2.000000</td>\n",
       "    </tr>\n",
       "    <tr>\n",
       "      <th>max</th>\n",
       "      <td>64.000000</td>\n",
       "      <td>53.130000</td>\n",
       "      <td>5.000000</td>\n",
       "    </tr>\n",
       "  </tbody>\n",
       "</table>\n",
       "</div>"
      ],
      "text/plain": [
       "               age          bmi     children\n",
       "count  1338.000000  1338.000000  1338.000000\n",
       "mean     39.207025    30.663397     1.094918\n",
       "std      14.049960     6.098187     1.205493\n",
       "min      18.000000    15.960000     0.000000\n",
       "25%      27.000000    26.296250     0.000000\n",
       "50%      39.000000    30.400000     1.000000\n",
       "75%      51.000000    34.693750     2.000000\n",
       "max      64.000000    53.130000     5.000000"
      ]
     },
     "execution_count": 13,
     "metadata": {},
     "output_type": "execute_result"
    }
   ],
   "source": [
    "#no obvious outliers\n",
    "\n",
    "dfdrop.describe()"
   ]
  },
  {
   "cell_type": "markdown",
   "id": "7c193597-bb01-4489-bf03-1f7595ade472",
   "metadata": {},
   "source": [
    "Check unique values"
   ]
  },
  {
   "cell_type": "code",
   "execution_count": 14,
   "id": "6c5cfef7-3979-4c50-a5ac-82ba45ed7578",
   "metadata": {},
   "outputs": [
    {
     "data": {
      "text/plain": [
       "age          47\n",
       "sex           2\n",
       "bmi         548\n",
       "children      6\n",
       "smoker        2\n",
       "region        4\n",
       "dtype: int64"
      ]
     },
     "execution_count": 14,
     "metadata": {},
     "output_type": "execute_result"
    }
   ],
   "source": [
    "#Everything here seems fine\n",
    "\n",
    "dfdrop.nunique(axis=0)"
   ]
  },
  {
   "cell_type": "markdown",
   "id": "e9aa7e89-7d38-4be0-b52c-cdd5eaf6dc54",
   "metadata": {},
   "source": [
    "## 2. Process and Wrangle Data"
   ]
  },
  {
   "cell_type": "markdown",
   "id": "e48cd3f9-7adb-415c-ab0d-5a6c455fd352",
   "metadata": {},
   "source": [
    "### Create any needed new column"
   ]
  },
  {
   "cell_type": "code",
   "execution_count": 15,
   "id": "04c89394-aacc-40b6-b928-8f7b86195aaa",
   "metadata": {},
   "outputs": [
    {
     "data": {
      "text/html": [
       "<div>\n",
       "<style scoped>\n",
       "    .dataframe tbody tr th:only-of-type {\n",
       "        vertical-align: middle;\n",
       "    }\n",
       "\n",
       "    .dataframe tbody tr th {\n",
       "        vertical-align: top;\n",
       "    }\n",
       "\n",
       "    .dataframe thead th {\n",
       "        text-align: right;\n",
       "    }\n",
       "</style>\n",
       "<table border=\"1\" class=\"dataframe\">\n",
       "  <thead>\n",
       "    <tr style=\"text-align: right;\">\n",
       "      <th></th>\n",
       "      <th>age</th>\n",
       "      <th>sex</th>\n",
       "      <th>bmi</th>\n",
       "      <th>children</th>\n",
       "      <th>smoker</th>\n",
       "      <th>region</th>\n",
       "      <th>has children</th>\n",
       "    </tr>\n",
       "  </thead>\n",
       "  <tbody>\n",
       "    <tr>\n",
       "      <th>0</th>\n",
       "      <td>19</td>\n",
       "      <td>female</td>\n",
       "      <td>27.900</td>\n",
       "      <td>0</td>\n",
       "      <td>yes</td>\n",
       "      <td>southwest</td>\n",
       "      <td>no</td>\n",
       "    </tr>\n",
       "    <tr>\n",
       "      <th>1</th>\n",
       "      <td>18</td>\n",
       "      <td>male</td>\n",
       "      <td>33.770</td>\n",
       "      <td>1</td>\n",
       "      <td>no</td>\n",
       "      <td>southeast</td>\n",
       "      <td>yes</td>\n",
       "    </tr>\n",
       "    <tr>\n",
       "      <th>2</th>\n",
       "      <td>28</td>\n",
       "      <td>male</td>\n",
       "      <td>33.000</td>\n",
       "      <td>3</td>\n",
       "      <td>no</td>\n",
       "      <td>southeast</td>\n",
       "      <td>yes</td>\n",
       "    </tr>\n",
       "    <tr>\n",
       "      <th>3</th>\n",
       "      <td>33</td>\n",
       "      <td>male</td>\n",
       "      <td>22.705</td>\n",
       "      <td>0</td>\n",
       "      <td>no</td>\n",
       "      <td>northwest</td>\n",
       "      <td>no</td>\n",
       "    </tr>\n",
       "    <tr>\n",
       "      <th>4</th>\n",
       "      <td>32</td>\n",
       "      <td>male</td>\n",
       "      <td>28.880</td>\n",
       "      <td>0</td>\n",
       "      <td>no</td>\n",
       "      <td>northwest</td>\n",
       "      <td>no</td>\n",
       "    </tr>\n",
       "    <tr>\n",
       "      <th>...</th>\n",
       "      <td>...</td>\n",
       "      <td>...</td>\n",
       "      <td>...</td>\n",
       "      <td>...</td>\n",
       "      <td>...</td>\n",
       "      <td>...</td>\n",
       "      <td>...</td>\n",
       "    </tr>\n",
       "    <tr>\n",
       "      <th>1333</th>\n",
       "      <td>50</td>\n",
       "      <td>male</td>\n",
       "      <td>30.970</td>\n",
       "      <td>3</td>\n",
       "      <td>no</td>\n",
       "      <td>northwest</td>\n",
       "      <td>yes</td>\n",
       "    </tr>\n",
       "    <tr>\n",
       "      <th>1334</th>\n",
       "      <td>18</td>\n",
       "      <td>female</td>\n",
       "      <td>31.920</td>\n",
       "      <td>0</td>\n",
       "      <td>no</td>\n",
       "      <td>northeast</td>\n",
       "      <td>no</td>\n",
       "    </tr>\n",
       "    <tr>\n",
       "      <th>1335</th>\n",
       "      <td>18</td>\n",
       "      <td>female</td>\n",
       "      <td>36.850</td>\n",
       "      <td>0</td>\n",
       "      <td>no</td>\n",
       "      <td>southeast</td>\n",
       "      <td>no</td>\n",
       "    </tr>\n",
       "    <tr>\n",
       "      <th>1336</th>\n",
       "      <td>21</td>\n",
       "      <td>female</td>\n",
       "      <td>25.800</td>\n",
       "      <td>0</td>\n",
       "      <td>no</td>\n",
       "      <td>southwest</td>\n",
       "      <td>no</td>\n",
       "    </tr>\n",
       "    <tr>\n",
       "      <th>1337</th>\n",
       "      <td>61</td>\n",
       "      <td>female</td>\n",
       "      <td>29.070</td>\n",
       "      <td>0</td>\n",
       "      <td>yes</td>\n",
       "      <td>northwest</td>\n",
       "      <td>no</td>\n",
       "    </tr>\n",
       "  </tbody>\n",
       "</table>\n",
       "<p>1338 rows × 7 columns</p>\n",
       "</div>"
      ],
      "text/plain": [
       "      age     sex     bmi  children smoker     region has children\n",
       "0      19  female  27.900         0    yes  southwest           no\n",
       "1      18    male  33.770         1     no  southeast          yes\n",
       "2      28    male  33.000         3     no  southeast          yes\n",
       "3      33    male  22.705         0     no  northwest           no\n",
       "4      32    male  28.880         0     no  northwest           no\n",
       "...   ...     ...     ...       ...    ...        ...          ...\n",
       "1333   50    male  30.970         3     no  northwest          yes\n",
       "1334   18  female  31.920         0     no  northeast           no\n",
       "1335   18  female  36.850         0     no  southeast           no\n",
       "1336   21  female  25.800         0     no  southwest           no\n",
       "1337   61  female  29.070         0    yes  northwest           no\n",
       "\n",
       "[1338 rows x 7 columns]"
      ]
     },
     "execution_count": 15,
     "metadata": {},
     "output_type": "execute_result"
    }
   ],
   "source": [
    "#Added a column turning the presence of children into a binary status (yes or no).\n",
    "\n",
    "dfdrop['has children'] = df['children'].apply(lambda x: 'yes' if x > 0 else 'no')\n",
    "dfdrop"
   ]
  },
  {
   "cell_type": "code",
   "execution_count": 16,
   "id": "ea4d5d3b-c4d1-42a9-b0a7-2385dcb319c8",
   "metadata": {},
   "outputs": [
    {
     "data": {
      "text/plain": [
       "yes    764\n",
       "no     574\n",
       "Name: has children, dtype: int64"
      ]
     },
     "execution_count": 16,
     "metadata": {},
     "output_type": "execute_result"
    }
   ],
   "source": [
    "dfdrop['has children'].value_counts()"
   ]
  },
  {
   "cell_type": "code",
   "execution_count": 17,
   "id": "3f6ca8bd-0c6e-4d42-9038-6797649afbd0",
   "metadata": {},
   "outputs": [
    {
     "data": {
      "text/html": [
       "<div>\n",
       "<style scoped>\n",
       "    .dataframe tbody tr th:only-of-type {\n",
       "        vertical-align: middle;\n",
       "    }\n",
       "\n",
       "    .dataframe tbody tr th {\n",
       "        vertical-align: top;\n",
       "    }\n",
       "\n",
       "    .dataframe thead th {\n",
       "        text-align: right;\n",
       "    }\n",
       "</style>\n",
       "<table border=\"1\" class=\"dataframe\">\n",
       "  <thead>\n",
       "    <tr style=\"text-align: right;\">\n",
       "      <th></th>\n",
       "      <th>age</th>\n",
       "      <th>sex</th>\n",
       "      <th>bmi</th>\n",
       "      <th>children</th>\n",
       "      <th>smoker</th>\n",
       "      <th>region</th>\n",
       "      <th>has children</th>\n",
       "      <th>BMI Category</th>\n",
       "    </tr>\n",
       "  </thead>\n",
       "  <tbody>\n",
       "    <tr>\n",
       "      <th>0</th>\n",
       "      <td>19</td>\n",
       "      <td>female</td>\n",
       "      <td>27.900</td>\n",
       "      <td>0</td>\n",
       "      <td>yes</td>\n",
       "      <td>southwest</td>\n",
       "      <td>no</td>\n",
       "      <td>overweight</td>\n",
       "    </tr>\n",
       "    <tr>\n",
       "      <th>1</th>\n",
       "      <td>18</td>\n",
       "      <td>male</td>\n",
       "      <td>33.770</td>\n",
       "      <td>1</td>\n",
       "      <td>no</td>\n",
       "      <td>southeast</td>\n",
       "      <td>yes</td>\n",
       "      <td>obese</td>\n",
       "    </tr>\n",
       "    <tr>\n",
       "      <th>2</th>\n",
       "      <td>28</td>\n",
       "      <td>male</td>\n",
       "      <td>33.000</td>\n",
       "      <td>3</td>\n",
       "      <td>no</td>\n",
       "      <td>southeast</td>\n",
       "      <td>yes</td>\n",
       "      <td>obese</td>\n",
       "    </tr>\n",
       "    <tr>\n",
       "      <th>3</th>\n",
       "      <td>33</td>\n",
       "      <td>male</td>\n",
       "      <td>22.705</td>\n",
       "      <td>0</td>\n",
       "      <td>no</td>\n",
       "      <td>northwest</td>\n",
       "      <td>no</td>\n",
       "      <td>normal</td>\n",
       "    </tr>\n",
       "    <tr>\n",
       "      <th>4</th>\n",
       "      <td>32</td>\n",
       "      <td>male</td>\n",
       "      <td>28.880</td>\n",
       "      <td>0</td>\n",
       "      <td>no</td>\n",
       "      <td>northwest</td>\n",
       "      <td>no</td>\n",
       "      <td>overweight</td>\n",
       "    </tr>\n",
       "    <tr>\n",
       "      <th>...</th>\n",
       "      <td>...</td>\n",
       "      <td>...</td>\n",
       "      <td>...</td>\n",
       "      <td>...</td>\n",
       "      <td>...</td>\n",
       "      <td>...</td>\n",
       "      <td>...</td>\n",
       "      <td>...</td>\n",
       "    </tr>\n",
       "    <tr>\n",
       "      <th>1333</th>\n",
       "      <td>50</td>\n",
       "      <td>male</td>\n",
       "      <td>30.970</td>\n",
       "      <td>3</td>\n",
       "      <td>no</td>\n",
       "      <td>northwest</td>\n",
       "      <td>yes</td>\n",
       "      <td>obese</td>\n",
       "    </tr>\n",
       "    <tr>\n",
       "      <th>1334</th>\n",
       "      <td>18</td>\n",
       "      <td>female</td>\n",
       "      <td>31.920</td>\n",
       "      <td>0</td>\n",
       "      <td>no</td>\n",
       "      <td>northeast</td>\n",
       "      <td>no</td>\n",
       "      <td>obese</td>\n",
       "    </tr>\n",
       "    <tr>\n",
       "      <th>1335</th>\n",
       "      <td>18</td>\n",
       "      <td>female</td>\n",
       "      <td>36.850</td>\n",
       "      <td>0</td>\n",
       "      <td>no</td>\n",
       "      <td>southeast</td>\n",
       "      <td>no</td>\n",
       "      <td>obese</td>\n",
       "    </tr>\n",
       "    <tr>\n",
       "      <th>1336</th>\n",
       "      <td>21</td>\n",
       "      <td>female</td>\n",
       "      <td>25.800</td>\n",
       "      <td>0</td>\n",
       "      <td>no</td>\n",
       "      <td>southwest</td>\n",
       "      <td>no</td>\n",
       "      <td>overweight</td>\n",
       "    </tr>\n",
       "    <tr>\n",
       "      <th>1337</th>\n",
       "      <td>61</td>\n",
       "      <td>female</td>\n",
       "      <td>29.070</td>\n",
       "      <td>0</td>\n",
       "      <td>yes</td>\n",
       "      <td>northwest</td>\n",
       "      <td>no</td>\n",
       "      <td>overweight</td>\n",
       "    </tr>\n",
       "  </tbody>\n",
       "</table>\n",
       "<p>1338 rows × 8 columns</p>\n",
       "</div>"
      ],
      "text/plain": [
       "      age     sex     bmi  children smoker     region has children  \\\n",
       "0      19  female  27.900         0    yes  southwest           no   \n",
       "1      18    male  33.770         1     no  southeast          yes   \n",
       "2      28    male  33.000         3     no  southeast          yes   \n",
       "3      33    male  22.705         0     no  northwest           no   \n",
       "4      32    male  28.880         0     no  northwest           no   \n",
       "...   ...     ...     ...       ...    ...        ...          ...   \n",
       "1333   50    male  30.970         3     no  northwest          yes   \n",
       "1334   18  female  31.920         0     no  northeast           no   \n",
       "1335   18  female  36.850         0     no  southeast           no   \n",
       "1336   21  female  25.800         0     no  southwest           no   \n",
       "1337   61  female  29.070         0    yes  northwest           no   \n",
       "\n",
       "     BMI Category  \n",
       "0      overweight  \n",
       "1           obese  \n",
       "2           obese  \n",
       "3          normal  \n",
       "4      overweight  \n",
       "...           ...  \n",
       "1333        obese  \n",
       "1334        obese  \n",
       "1335        obese  \n",
       "1336   overweight  \n",
       "1337   overweight  \n",
       "\n",
       "[1338 rows x 8 columns]"
      ]
     },
     "execution_count": 17,
     "metadata": {},
     "output_type": "execute_result"
    }
   ],
   "source": [
    "\n",
    "\n",
    "# Here I created a new column that classifies each row into one of the BMI categories.\n",
    "\n",
    "def bmi_category(bmi):\n",
    "    if bmi < 16:\n",
    "        return 'underweight'\n",
    "    elif 16 <= bmi <= 18.4:\n",
    "        return 'underweight'\n",
    "    elif 18.5 <= bmi <= 24.9:\n",
    "        return 'normal'\n",
    "    elif 25 <= bmi <= 29.9:\n",
    "        return 'overweight'\n",
    "    else:\n",
    "        return 'obese'\n",
    "\n",
    "dfdrop['BMI Category'] = dfdrop['bmi'].apply(lambda x: bmi_category(x))\n",
    "\n",
    "dfdrop\n"
   ]
  },
  {
   "cell_type": "code",
   "execution_count": 18,
   "id": "912bb1b0-99d9-4286-ab73-061a8d6b9c3a",
   "metadata": {},
   "outputs": [
    {
     "data": {
      "text/plain": [
       "obese          719\n",
       "overweight     377\n",
       "normal         222\n",
       "underweight     20\n",
       "Name: BMI Category, dtype: int64"
      ]
     },
     "execution_count": 18,
     "metadata": {},
     "output_type": "execute_result"
    }
   ],
   "source": [
    "dfdrop['BMI Category'].value_counts()"
   ]
  },
  {
   "cell_type": "code",
   "execution_count": 19,
   "id": "f78818bd-283c-4796-923f-780f89e9079b",
   "metadata": {},
   "outputs": [
    {
     "data": {
      "text/html": [
       "<div>\n",
       "<style scoped>\n",
       "    .dataframe tbody tr th:only-of-type {\n",
       "        vertical-align: middle;\n",
       "    }\n",
       "\n",
       "    .dataframe tbody tr th {\n",
       "        vertical-align: top;\n",
       "    }\n",
       "\n",
       "    .dataframe thead th {\n",
       "        text-align: right;\n",
       "    }\n",
       "</style>\n",
       "<table border=\"1\" class=\"dataframe\">\n",
       "  <thead>\n",
       "    <tr style=\"text-align: right;\">\n",
       "      <th></th>\n",
       "      <th>age</th>\n",
       "      <th>sex</th>\n",
       "      <th>bmi</th>\n",
       "      <th>children</th>\n",
       "      <th>smoker</th>\n",
       "      <th>region</th>\n",
       "      <th>has children</th>\n",
       "      <th>BMI Category</th>\n",
       "    </tr>\n",
       "  </thead>\n",
       "  <tbody>\n",
       "    <tr>\n",
       "      <th>0</th>\n",
       "      <td>19</td>\n",
       "      <td>female</td>\n",
       "      <td>27.900</td>\n",
       "      <td>0</td>\n",
       "      <td>yes</td>\n",
       "      <td>southwest</td>\n",
       "      <td>no</td>\n",
       "      <td>overweight</td>\n",
       "    </tr>\n",
       "    <tr>\n",
       "      <th>1</th>\n",
       "      <td>18</td>\n",
       "      <td>male</td>\n",
       "      <td>33.770</td>\n",
       "      <td>1</td>\n",
       "      <td>no</td>\n",
       "      <td>southeast</td>\n",
       "      <td>yes</td>\n",
       "      <td>obese</td>\n",
       "    </tr>\n",
       "    <tr>\n",
       "      <th>2</th>\n",
       "      <td>28</td>\n",
       "      <td>male</td>\n",
       "      <td>33.000</td>\n",
       "      <td>3</td>\n",
       "      <td>no</td>\n",
       "      <td>southeast</td>\n",
       "      <td>yes</td>\n",
       "      <td>obese</td>\n",
       "    </tr>\n",
       "    <tr>\n",
       "      <th>3</th>\n",
       "      <td>33</td>\n",
       "      <td>male</td>\n",
       "      <td>22.705</td>\n",
       "      <td>0</td>\n",
       "      <td>no</td>\n",
       "      <td>northwest</td>\n",
       "      <td>no</td>\n",
       "      <td>normal</td>\n",
       "    </tr>\n",
       "    <tr>\n",
       "      <th>4</th>\n",
       "      <td>32</td>\n",
       "      <td>male</td>\n",
       "      <td>28.880</td>\n",
       "      <td>0</td>\n",
       "      <td>no</td>\n",
       "      <td>northwest</td>\n",
       "      <td>no</td>\n",
       "      <td>overweight</td>\n",
       "    </tr>\n",
       "    <tr>\n",
       "      <th>...</th>\n",
       "      <td>...</td>\n",
       "      <td>...</td>\n",
       "      <td>...</td>\n",
       "      <td>...</td>\n",
       "      <td>...</td>\n",
       "      <td>...</td>\n",
       "      <td>...</td>\n",
       "      <td>...</td>\n",
       "    </tr>\n",
       "    <tr>\n",
       "      <th>1333</th>\n",
       "      <td>50</td>\n",
       "      <td>male</td>\n",
       "      <td>30.970</td>\n",
       "      <td>3</td>\n",
       "      <td>no</td>\n",
       "      <td>northwest</td>\n",
       "      <td>yes</td>\n",
       "      <td>obese</td>\n",
       "    </tr>\n",
       "    <tr>\n",
       "      <th>1334</th>\n",
       "      <td>18</td>\n",
       "      <td>female</td>\n",
       "      <td>31.920</td>\n",
       "      <td>0</td>\n",
       "      <td>no</td>\n",
       "      <td>northeast</td>\n",
       "      <td>no</td>\n",
       "      <td>obese</td>\n",
       "    </tr>\n",
       "    <tr>\n",
       "      <th>1335</th>\n",
       "      <td>18</td>\n",
       "      <td>female</td>\n",
       "      <td>36.850</td>\n",
       "      <td>0</td>\n",
       "      <td>no</td>\n",
       "      <td>southeast</td>\n",
       "      <td>no</td>\n",
       "      <td>obese</td>\n",
       "    </tr>\n",
       "    <tr>\n",
       "      <th>1336</th>\n",
       "      <td>21</td>\n",
       "      <td>female</td>\n",
       "      <td>25.800</td>\n",
       "      <td>0</td>\n",
       "      <td>no</td>\n",
       "      <td>southwest</td>\n",
       "      <td>no</td>\n",
       "      <td>overweight</td>\n",
       "    </tr>\n",
       "    <tr>\n",
       "      <th>1337</th>\n",
       "      <td>61</td>\n",
       "      <td>female</td>\n",
       "      <td>29.070</td>\n",
       "      <td>0</td>\n",
       "      <td>yes</td>\n",
       "      <td>northwest</td>\n",
       "      <td>no</td>\n",
       "      <td>overweight</td>\n",
       "    </tr>\n",
       "  </tbody>\n",
       "</table>\n",
       "<p>1318 rows × 8 columns</p>\n",
       "</div>"
      ],
      "text/plain": [
       "      age     sex     bmi  children smoker     region has children  \\\n",
       "0      19  female  27.900         0    yes  southwest           no   \n",
       "1      18    male  33.770         1     no  southeast          yes   \n",
       "2      28    male  33.000         3     no  southeast          yes   \n",
       "3      33    male  22.705         0     no  northwest           no   \n",
       "4      32    male  28.880         0     no  northwest           no   \n",
       "...   ...     ...     ...       ...    ...        ...          ...   \n",
       "1333   50    male  30.970         3     no  northwest          yes   \n",
       "1334   18  female  31.920         0     no  northeast           no   \n",
       "1335   18  female  36.850         0     no  southeast           no   \n",
       "1336   21  female  25.800         0     no  southwest           no   \n",
       "1337   61  female  29.070         0    yes  northwest           no   \n",
       "\n",
       "     BMI Category  \n",
       "0      overweight  \n",
       "1           obese  \n",
       "2           obese  \n",
       "3          normal  \n",
       "4      overweight  \n",
       "...           ...  \n",
       "1333        obese  \n",
       "1334        obese  \n",
       "1335        obese  \n",
       "1336   overweight  \n",
       "1337   overweight  \n",
       "\n",
       "[1318 rows x 8 columns]"
      ]
     },
     "execution_count": 19,
     "metadata": {},
     "output_type": "execute_result"
    }
   ],
   "source": [
    "#As there are very few entries (20) for underweight people, I am going to remove this completely. \n",
    "#After printing the new dataset, I can see that 20 rows have been removed.\n",
    "\n",
    "filtered_df = dfdrop[dfdrop['bmi'] >= 18.5]\n",
    "filtered_df"
   ]
  },
  {
   "cell_type": "code",
   "execution_count": 20,
   "id": "92446cc3-f690-4716-96fb-58ee88de542a",
   "metadata": {},
   "outputs": [
    {
     "data": {
      "text/plain": [
       "obese         719\n",
       "overweight    377\n",
       "normal        222\n",
       "Name: BMI Category, dtype: int64"
      ]
     },
     "execution_count": 20,
     "metadata": {},
     "output_type": "execute_result"
    }
   ],
   "source": [
    "#I now confirm the underweight category no longer exists.\n",
    "\n",
    "filtered_df['BMI Category'].value_counts()"
   ]
  },
  {
   "cell_type": "code",
   "execution_count": 21,
   "id": "96ba8802-9dce-4744-a5ed-e19184ce6ae3",
   "metadata": {},
   "outputs": [
    {
     "name": "stderr",
     "output_type": "stream",
     "text": [
      "C:\\Users\\david\\AppData\\Local\\Temp\\ipykernel_36488\\2805968598.py:17: SettingWithCopyWarning: \n",
      "A value is trying to be set on a copy of a slice from a DataFrame.\n",
      "Try using .loc[row_indexer,col_indexer] = value instead\n",
      "\n",
      "See the caveats in the documentation: https://pandas.pydata.org/pandas-docs/stable/user_guide/indexing.html#returning-a-view-versus-a-copy\n",
      "  filtered_df['age group'] = filtered_df['age'].apply(lambda x: age_category(x))\n"
     ]
    },
    {
     "data": {
      "text/html": [
       "<div>\n",
       "<style scoped>\n",
       "    .dataframe tbody tr th:only-of-type {\n",
       "        vertical-align: middle;\n",
       "    }\n",
       "\n",
       "    .dataframe tbody tr th {\n",
       "        vertical-align: top;\n",
       "    }\n",
       "\n",
       "    .dataframe thead th {\n",
       "        text-align: right;\n",
       "    }\n",
       "</style>\n",
       "<table border=\"1\" class=\"dataframe\">\n",
       "  <thead>\n",
       "    <tr style=\"text-align: right;\">\n",
       "      <th></th>\n",
       "      <th>age</th>\n",
       "      <th>sex</th>\n",
       "      <th>bmi</th>\n",
       "      <th>children</th>\n",
       "      <th>smoker</th>\n",
       "      <th>region</th>\n",
       "      <th>has children</th>\n",
       "      <th>BMI Category</th>\n",
       "      <th>age group</th>\n",
       "    </tr>\n",
       "  </thead>\n",
       "  <tbody>\n",
       "    <tr>\n",
       "      <th>0</th>\n",
       "      <td>19</td>\n",
       "      <td>female</td>\n",
       "      <td>27.900</td>\n",
       "      <td>0</td>\n",
       "      <td>yes</td>\n",
       "      <td>southwest</td>\n",
       "      <td>no</td>\n",
       "      <td>overweight</td>\n",
       "      <td>60s</td>\n",
       "    </tr>\n",
       "    <tr>\n",
       "      <th>1</th>\n",
       "      <td>18</td>\n",
       "      <td>male</td>\n",
       "      <td>33.770</td>\n",
       "      <td>1</td>\n",
       "      <td>no</td>\n",
       "      <td>southeast</td>\n",
       "      <td>yes</td>\n",
       "      <td>obese</td>\n",
       "      <td>teens</td>\n",
       "    </tr>\n",
       "    <tr>\n",
       "      <th>2</th>\n",
       "      <td>28</td>\n",
       "      <td>male</td>\n",
       "      <td>33.000</td>\n",
       "      <td>3</td>\n",
       "      <td>no</td>\n",
       "      <td>southeast</td>\n",
       "      <td>yes</td>\n",
       "      <td>obese</td>\n",
       "      <td>20s</td>\n",
       "    </tr>\n",
       "    <tr>\n",
       "      <th>3</th>\n",
       "      <td>33</td>\n",
       "      <td>male</td>\n",
       "      <td>22.705</td>\n",
       "      <td>0</td>\n",
       "      <td>no</td>\n",
       "      <td>northwest</td>\n",
       "      <td>no</td>\n",
       "      <td>normal</td>\n",
       "      <td>30s</td>\n",
       "    </tr>\n",
       "    <tr>\n",
       "      <th>4</th>\n",
       "      <td>32</td>\n",
       "      <td>male</td>\n",
       "      <td>28.880</td>\n",
       "      <td>0</td>\n",
       "      <td>no</td>\n",
       "      <td>northwest</td>\n",
       "      <td>no</td>\n",
       "      <td>overweight</td>\n",
       "      <td>30s</td>\n",
       "    </tr>\n",
       "  </tbody>\n",
       "</table>\n",
       "</div>"
      ],
      "text/plain": [
       "   age     sex     bmi  children smoker     region has children BMI Category  \\\n",
       "0   19  female  27.900         0    yes  southwest           no   overweight   \n",
       "1   18    male  33.770         1     no  southeast          yes        obese   \n",
       "2   28    male  33.000         3     no  southeast          yes        obese   \n",
       "3   33    male  22.705         0     no  northwest           no       normal   \n",
       "4   32    male  28.880         0     no  northwest           no   overweight   \n",
       "\n",
       "  age group  \n",
       "0       60s  \n",
       "1     teens  \n",
       "2       20s  \n",
       "3       30s  \n",
       "4       30s  "
      ]
     },
     "execution_count": 21,
     "metadata": {},
     "output_type": "execute_result"
    }
   ],
   "source": [
    "# Here I created a new column that classifies the entries into age groups\n",
    "\n",
    "def age_category(age):\n",
    "    if age < 19:\n",
    "        return 'teens'\n",
    "    elif 20 <= age <= 29:\n",
    "        return '20s'\n",
    "    elif 30 <= age <= 39:\n",
    "        return '30s'\n",
    "    elif 40 <= age <= 49:\n",
    "        return '40s'\n",
    "    elif 50 <= age <= 59:\n",
    "        return '50s'  \n",
    "    else:\n",
    "        return '60s'\n",
    "\n",
    "filtered_df['age group'] = filtered_df['age'].apply(lambda x: age_category(x))\n",
    "\n",
    "filtered_df.head()"
   ]
  },
  {
   "cell_type": "code",
   "execution_count": 22,
   "id": "22da8098-414a-4ec1-b23e-ee3f1957b7a1",
   "metadata": {},
   "outputs": [
    {
     "data": {
      "text/plain": [
       "40s      279\n",
       "20s      273\n",
       "50s      268\n",
       "30s      252\n",
       "60s      179\n",
       "teens     67\n",
       "Name: age group, dtype: int64"
      ]
     },
     "execution_count": 22,
     "metadata": {},
     "output_type": "execute_result"
    }
   ],
   "source": [
    "filtered_df['age group'].value_counts()"
   ]
  },
  {
   "cell_type": "code",
   "execution_count": 23,
   "id": "6a3165b2-0f38-432a-af91-449716bb258a",
   "metadata": {},
   "outputs": [
    {
     "data": {
      "text/html": [
       "<div>\n",
       "<style scoped>\n",
       "    .dataframe tbody tr th:only-of-type {\n",
       "        vertical-align: middle;\n",
       "    }\n",
       "\n",
       "    .dataframe tbody tr th {\n",
       "        vertical-align: top;\n",
       "    }\n",
       "\n",
       "    .dataframe thead th {\n",
       "        text-align: right;\n",
       "    }\n",
       "</style>\n",
       "<table border=\"1\" class=\"dataframe\">\n",
       "  <thead>\n",
       "    <tr style=\"text-align: right;\">\n",
       "      <th></th>\n",
       "      <th>age group</th>\n",
       "      <th>age</th>\n",
       "      <th>sex</th>\n",
       "      <th>children</th>\n",
       "      <th>has children</th>\n",
       "      <th>smoker</th>\n",
       "      <th>region</th>\n",
       "      <th>bmi</th>\n",
       "      <th>BMI Category</th>\n",
       "    </tr>\n",
       "  </thead>\n",
       "  <tbody>\n",
       "    <tr>\n",
       "      <th>0</th>\n",
       "      <td>60s</td>\n",
       "      <td>19</td>\n",
       "      <td>female</td>\n",
       "      <td>0</td>\n",
       "      <td>no</td>\n",
       "      <td>yes</td>\n",
       "      <td>southwest</td>\n",
       "      <td>27.900</td>\n",
       "      <td>overweight</td>\n",
       "    </tr>\n",
       "    <tr>\n",
       "      <th>1</th>\n",
       "      <td>teens</td>\n",
       "      <td>18</td>\n",
       "      <td>male</td>\n",
       "      <td>1</td>\n",
       "      <td>yes</td>\n",
       "      <td>no</td>\n",
       "      <td>southeast</td>\n",
       "      <td>33.770</td>\n",
       "      <td>obese</td>\n",
       "    </tr>\n",
       "    <tr>\n",
       "      <th>2</th>\n",
       "      <td>20s</td>\n",
       "      <td>28</td>\n",
       "      <td>male</td>\n",
       "      <td>3</td>\n",
       "      <td>yes</td>\n",
       "      <td>no</td>\n",
       "      <td>southeast</td>\n",
       "      <td>33.000</td>\n",
       "      <td>obese</td>\n",
       "    </tr>\n",
       "    <tr>\n",
       "      <th>3</th>\n",
       "      <td>30s</td>\n",
       "      <td>33</td>\n",
       "      <td>male</td>\n",
       "      <td>0</td>\n",
       "      <td>no</td>\n",
       "      <td>no</td>\n",
       "      <td>northwest</td>\n",
       "      <td>22.705</td>\n",
       "      <td>normal</td>\n",
       "    </tr>\n",
       "    <tr>\n",
       "      <th>4</th>\n",
       "      <td>30s</td>\n",
       "      <td>32</td>\n",
       "      <td>male</td>\n",
       "      <td>0</td>\n",
       "      <td>no</td>\n",
       "      <td>no</td>\n",
       "      <td>northwest</td>\n",
       "      <td>28.880</td>\n",
       "      <td>overweight</td>\n",
       "    </tr>\n",
       "    <tr>\n",
       "      <th>...</th>\n",
       "      <td>...</td>\n",
       "      <td>...</td>\n",
       "      <td>...</td>\n",
       "      <td>...</td>\n",
       "      <td>...</td>\n",
       "      <td>...</td>\n",
       "      <td>...</td>\n",
       "      <td>...</td>\n",
       "      <td>...</td>\n",
       "    </tr>\n",
       "    <tr>\n",
       "      <th>1333</th>\n",
       "      <td>50s</td>\n",
       "      <td>50</td>\n",
       "      <td>male</td>\n",
       "      <td>3</td>\n",
       "      <td>yes</td>\n",
       "      <td>no</td>\n",
       "      <td>northwest</td>\n",
       "      <td>30.970</td>\n",
       "      <td>obese</td>\n",
       "    </tr>\n",
       "    <tr>\n",
       "      <th>1334</th>\n",
       "      <td>teens</td>\n",
       "      <td>18</td>\n",
       "      <td>female</td>\n",
       "      <td>0</td>\n",
       "      <td>no</td>\n",
       "      <td>no</td>\n",
       "      <td>northeast</td>\n",
       "      <td>31.920</td>\n",
       "      <td>obese</td>\n",
       "    </tr>\n",
       "    <tr>\n",
       "      <th>1335</th>\n",
       "      <td>teens</td>\n",
       "      <td>18</td>\n",
       "      <td>female</td>\n",
       "      <td>0</td>\n",
       "      <td>no</td>\n",
       "      <td>no</td>\n",
       "      <td>southeast</td>\n",
       "      <td>36.850</td>\n",
       "      <td>obese</td>\n",
       "    </tr>\n",
       "    <tr>\n",
       "      <th>1336</th>\n",
       "      <td>20s</td>\n",
       "      <td>21</td>\n",
       "      <td>female</td>\n",
       "      <td>0</td>\n",
       "      <td>no</td>\n",
       "      <td>no</td>\n",
       "      <td>southwest</td>\n",
       "      <td>25.800</td>\n",
       "      <td>overweight</td>\n",
       "    </tr>\n",
       "    <tr>\n",
       "      <th>1337</th>\n",
       "      <td>60s</td>\n",
       "      <td>61</td>\n",
       "      <td>female</td>\n",
       "      <td>0</td>\n",
       "      <td>no</td>\n",
       "      <td>yes</td>\n",
       "      <td>northwest</td>\n",
       "      <td>29.070</td>\n",
       "      <td>overweight</td>\n",
       "    </tr>\n",
       "  </tbody>\n",
       "</table>\n",
       "<p>1318 rows × 9 columns</p>\n",
       "</div>"
      ],
      "text/plain": [
       "     age group  age     sex  children has children smoker     region     bmi  \\\n",
       "0          60s   19  female         0           no    yes  southwest  27.900   \n",
       "1        teens   18    male         1          yes     no  southeast  33.770   \n",
       "2          20s   28    male         3          yes     no  southeast  33.000   \n",
       "3          30s   33    male         0           no     no  northwest  22.705   \n",
       "4          30s   32    male         0           no     no  northwest  28.880   \n",
       "...        ...  ...     ...       ...          ...    ...        ...     ...   \n",
       "1333       50s   50    male         3          yes     no  northwest  30.970   \n",
       "1334     teens   18  female         0           no     no  northeast  31.920   \n",
       "1335     teens   18  female         0           no     no  southeast  36.850   \n",
       "1336       20s   21  female         0           no     no  southwest  25.800   \n",
       "1337       60s   61  female         0           no    yes  northwest  29.070   \n",
       "\n",
       "     BMI Category  \n",
       "0      overweight  \n",
       "1           obese  \n",
       "2           obese  \n",
       "3          normal  \n",
       "4      overweight  \n",
       "...           ...  \n",
       "1333        obese  \n",
       "1334        obese  \n",
       "1335        obese  \n",
       "1336   overweight  \n",
       "1337   overweight  \n",
       "\n",
       "[1318 rows x 9 columns]"
      ]
     },
     "execution_count": 23,
     "metadata": {},
     "output_type": "execute_result"
    }
   ],
   "source": [
    "#here I re-arranged the order of the columns\n",
    "\n",
    "new_order = ['age group', 'age', 'sex', 'children', 'has children', 'smoker', 'region', 'bmi', 'BMI Category']\n",
    "filtered_df = filtered_df.reindex(columns=new_order)\n",
    "filtered_df"
   ]
  },
  {
   "cell_type": "code",
   "execution_count": 24,
   "id": "2c3d49d8-b545-4472-b64e-c2ddd6c26de5",
   "metadata": {},
   "outputs": [
    {
     "data": {
      "text/html": [
       "<div>\n",
       "<style scoped>\n",
       "    .dataframe tbody tr th:only-of-type {\n",
       "        vertical-align: middle;\n",
       "    }\n",
       "\n",
       "    .dataframe tbody tr th {\n",
       "        vertical-align: top;\n",
       "    }\n",
       "\n",
       "    .dataframe thead th {\n",
       "        text-align: right;\n",
       "    }\n",
       "</style>\n",
       "<table border=\"1\" class=\"dataframe\">\n",
       "  <thead>\n",
       "    <tr style=\"text-align: right;\">\n",
       "      <th></th>\n",
       "      <th>age group</th>\n",
       "      <th>age</th>\n",
       "      <th>gender</th>\n",
       "      <th>children</th>\n",
       "      <th>has children</th>\n",
       "      <th>smoker</th>\n",
       "      <th>region</th>\n",
       "      <th>bmi</th>\n",
       "      <th>BMI Category</th>\n",
       "    </tr>\n",
       "  </thead>\n",
       "  <tbody>\n",
       "    <tr>\n",
       "      <th>0</th>\n",
       "      <td>60s</td>\n",
       "      <td>19</td>\n",
       "      <td>female</td>\n",
       "      <td>0</td>\n",
       "      <td>no</td>\n",
       "      <td>yes</td>\n",
       "      <td>southwest</td>\n",
       "      <td>27.900</td>\n",
       "      <td>overweight</td>\n",
       "    </tr>\n",
       "    <tr>\n",
       "      <th>1</th>\n",
       "      <td>teens</td>\n",
       "      <td>18</td>\n",
       "      <td>male</td>\n",
       "      <td>1</td>\n",
       "      <td>yes</td>\n",
       "      <td>no</td>\n",
       "      <td>southeast</td>\n",
       "      <td>33.770</td>\n",
       "      <td>obese</td>\n",
       "    </tr>\n",
       "    <tr>\n",
       "      <th>2</th>\n",
       "      <td>20s</td>\n",
       "      <td>28</td>\n",
       "      <td>male</td>\n",
       "      <td>3</td>\n",
       "      <td>yes</td>\n",
       "      <td>no</td>\n",
       "      <td>southeast</td>\n",
       "      <td>33.000</td>\n",
       "      <td>obese</td>\n",
       "    </tr>\n",
       "    <tr>\n",
       "      <th>3</th>\n",
       "      <td>30s</td>\n",
       "      <td>33</td>\n",
       "      <td>male</td>\n",
       "      <td>0</td>\n",
       "      <td>no</td>\n",
       "      <td>no</td>\n",
       "      <td>northwest</td>\n",
       "      <td>22.705</td>\n",
       "      <td>normal</td>\n",
       "    </tr>\n",
       "    <tr>\n",
       "      <th>4</th>\n",
       "      <td>30s</td>\n",
       "      <td>32</td>\n",
       "      <td>male</td>\n",
       "      <td>0</td>\n",
       "      <td>no</td>\n",
       "      <td>no</td>\n",
       "      <td>northwest</td>\n",
       "      <td>28.880</td>\n",
       "      <td>overweight</td>\n",
       "    </tr>\n",
       "    <tr>\n",
       "      <th>...</th>\n",
       "      <td>...</td>\n",
       "      <td>...</td>\n",
       "      <td>...</td>\n",
       "      <td>...</td>\n",
       "      <td>...</td>\n",
       "      <td>...</td>\n",
       "      <td>...</td>\n",
       "      <td>...</td>\n",
       "      <td>...</td>\n",
       "    </tr>\n",
       "    <tr>\n",
       "      <th>1333</th>\n",
       "      <td>50s</td>\n",
       "      <td>50</td>\n",
       "      <td>male</td>\n",
       "      <td>3</td>\n",
       "      <td>yes</td>\n",
       "      <td>no</td>\n",
       "      <td>northwest</td>\n",
       "      <td>30.970</td>\n",
       "      <td>obese</td>\n",
       "    </tr>\n",
       "    <tr>\n",
       "      <th>1334</th>\n",
       "      <td>teens</td>\n",
       "      <td>18</td>\n",
       "      <td>female</td>\n",
       "      <td>0</td>\n",
       "      <td>no</td>\n",
       "      <td>no</td>\n",
       "      <td>northeast</td>\n",
       "      <td>31.920</td>\n",
       "      <td>obese</td>\n",
       "    </tr>\n",
       "    <tr>\n",
       "      <th>1335</th>\n",
       "      <td>teens</td>\n",
       "      <td>18</td>\n",
       "      <td>female</td>\n",
       "      <td>0</td>\n",
       "      <td>no</td>\n",
       "      <td>no</td>\n",
       "      <td>southeast</td>\n",
       "      <td>36.850</td>\n",
       "      <td>obese</td>\n",
       "    </tr>\n",
       "    <tr>\n",
       "      <th>1336</th>\n",
       "      <td>20s</td>\n",
       "      <td>21</td>\n",
       "      <td>female</td>\n",
       "      <td>0</td>\n",
       "      <td>no</td>\n",
       "      <td>no</td>\n",
       "      <td>southwest</td>\n",
       "      <td>25.800</td>\n",
       "      <td>overweight</td>\n",
       "    </tr>\n",
       "    <tr>\n",
       "      <th>1337</th>\n",
       "      <td>60s</td>\n",
       "      <td>61</td>\n",
       "      <td>female</td>\n",
       "      <td>0</td>\n",
       "      <td>no</td>\n",
       "      <td>yes</td>\n",
       "      <td>northwest</td>\n",
       "      <td>29.070</td>\n",
       "      <td>overweight</td>\n",
       "    </tr>\n",
       "  </tbody>\n",
       "</table>\n",
       "<p>1318 rows × 9 columns</p>\n",
       "</div>"
      ],
      "text/plain": [
       "     age group  age  gender  children has children smoker     region     bmi  \\\n",
       "0          60s   19  female         0           no    yes  southwest  27.900   \n",
       "1        teens   18    male         1          yes     no  southeast  33.770   \n",
       "2          20s   28    male         3          yes     no  southeast  33.000   \n",
       "3          30s   33    male         0           no     no  northwest  22.705   \n",
       "4          30s   32    male         0           no     no  northwest  28.880   \n",
       "...        ...  ...     ...       ...          ...    ...        ...     ...   \n",
       "1333       50s   50    male         3          yes     no  northwest  30.970   \n",
       "1334     teens   18  female         0           no     no  northeast  31.920   \n",
       "1335     teens   18  female         0           no     no  southeast  36.850   \n",
       "1336       20s   21  female         0           no     no  southwest  25.800   \n",
       "1337       60s   61  female         0           no    yes  northwest  29.070   \n",
       "\n",
       "     BMI Category  \n",
       "0      overweight  \n",
       "1           obese  \n",
       "2           obese  \n",
       "3          normal  \n",
       "4      overweight  \n",
       "...           ...  \n",
       "1333        obese  \n",
       "1334        obese  \n",
       "1335        obese  \n",
       "1336   overweight  \n",
       "1337   overweight  \n",
       "\n",
       "[1318 rows x 9 columns]"
      ]
     },
     "execution_count": 24,
     "metadata": {},
     "output_type": "execute_result"
    }
   ],
   "source": [
    "\n",
    "#Here I renamed the column \"sex\" to \"gender\"\n",
    "\n",
    "filtered_df = filtered_df.rename(columns={\"sex\": \"gender\"})\n",
    "filtered_df"
   ]
  },
  {
   "cell_type": "code",
   "execution_count": 25,
   "id": "d19a7673-6b26-4a49-a45a-34525ac5582d",
   "metadata": {},
   "outputs": [
    {
     "data": {
      "text/html": [
       "<div>\n",
       "<style scoped>\n",
       "    .dataframe tbody tr th:only-of-type {\n",
       "        vertical-align: middle;\n",
       "    }\n",
       "\n",
       "    .dataframe tbody tr th {\n",
       "        vertical-align: top;\n",
       "    }\n",
       "\n",
       "    .dataframe thead th {\n",
       "        text-align: right;\n",
       "    }\n",
       "</style>\n",
       "<table border=\"1\" class=\"dataframe\">\n",
       "  <thead>\n",
       "    <tr style=\"text-align: right;\">\n",
       "      <th></th>\n",
       "      <th>age group</th>\n",
       "      <th>age</th>\n",
       "      <th>gender</th>\n",
       "      <th>children</th>\n",
       "      <th>has children</th>\n",
       "      <th>smoker</th>\n",
       "      <th>region</th>\n",
       "      <th>bmi</th>\n",
       "      <th>BMI Category</th>\n",
       "    </tr>\n",
       "  </thead>\n",
       "  <tbody>\n",
       "    <tr>\n",
       "      <th>0</th>\n",
       "      <td>40s</td>\n",
       "      <td>46</td>\n",
       "      <td>female</td>\n",
       "      <td>2</td>\n",
       "      <td>yes</td>\n",
       "      <td>no</td>\n",
       "      <td>northwest</td>\n",
       "      <td>19.950</td>\n",
       "      <td>normal</td>\n",
       "    </tr>\n",
       "    <tr>\n",
       "      <th>1</th>\n",
       "      <td>60s</td>\n",
       "      <td>19</td>\n",
       "      <td>female</td>\n",
       "      <td>0</td>\n",
       "      <td>no</td>\n",
       "      <td>no</td>\n",
       "      <td>northwest</td>\n",
       "      <td>22.515</td>\n",
       "      <td>normal</td>\n",
       "    </tr>\n",
       "    <tr>\n",
       "      <th>2</th>\n",
       "      <td>teens</td>\n",
       "      <td>18</td>\n",
       "      <td>female</td>\n",
       "      <td>0</td>\n",
       "      <td>no</td>\n",
       "      <td>yes</td>\n",
       "      <td>northeast</td>\n",
       "      <td>21.660</td>\n",
       "      <td>normal</td>\n",
       "    </tr>\n",
       "    <tr>\n",
       "      <th>3</th>\n",
       "      <td>50s</td>\n",
       "      <td>55</td>\n",
       "      <td>male</td>\n",
       "      <td>1</td>\n",
       "      <td>yes</td>\n",
       "      <td>no</td>\n",
       "      <td>southwest</td>\n",
       "      <td>21.500</td>\n",
       "      <td>normal</td>\n",
       "    </tr>\n",
       "    <tr>\n",
       "      <th>4</th>\n",
       "      <td>40s</td>\n",
       "      <td>43</td>\n",
       "      <td>female</td>\n",
       "      <td>2</td>\n",
       "      <td>yes</td>\n",
       "      <td>yes</td>\n",
       "      <td>northeast</td>\n",
       "      <td>20.045</td>\n",
       "      <td>normal</td>\n",
       "    </tr>\n",
       "    <tr>\n",
       "      <th>...</th>\n",
       "      <td>...</td>\n",
       "      <td>...</td>\n",
       "      <td>...</td>\n",
       "      <td>...</td>\n",
       "      <td>...</td>\n",
       "      <td>...</td>\n",
       "      <td>...</td>\n",
       "      <td>...</td>\n",
       "      <td>...</td>\n",
       "    </tr>\n",
       "    <tr>\n",
       "      <th>1313</th>\n",
       "      <td>20s</td>\n",
       "      <td>21</td>\n",
       "      <td>male</td>\n",
       "      <td>0</td>\n",
       "      <td>no</td>\n",
       "      <td>no</td>\n",
       "      <td>northeast</td>\n",
       "      <td>27.360</td>\n",
       "      <td>overweight</td>\n",
       "    </tr>\n",
       "    <tr>\n",
       "      <th>1314</th>\n",
       "      <td>30s</td>\n",
       "      <td>34</td>\n",
       "      <td>female</td>\n",
       "      <td>1</td>\n",
       "      <td>yes</td>\n",
       "      <td>no</td>\n",
       "      <td>northwest</td>\n",
       "      <td>26.410</td>\n",
       "      <td>overweight</td>\n",
       "    </tr>\n",
       "    <tr>\n",
       "      <th>1315</th>\n",
       "      <td>40s</td>\n",
       "      <td>47</td>\n",
       "      <td>female</td>\n",
       "      <td>1</td>\n",
       "      <td>yes</td>\n",
       "      <td>no</td>\n",
       "      <td>northwest</td>\n",
       "      <td>29.545</td>\n",
       "      <td>overweight</td>\n",
       "    </tr>\n",
       "    <tr>\n",
       "      <th>1316</th>\n",
       "      <td>30s</td>\n",
       "      <td>36</td>\n",
       "      <td>male</td>\n",
       "      <td>3</td>\n",
       "      <td>yes</td>\n",
       "      <td>no</td>\n",
       "      <td>northeast</td>\n",
       "      <td>28.880</td>\n",
       "      <td>overweight</td>\n",
       "    </tr>\n",
       "    <tr>\n",
       "      <th>1317</th>\n",
       "      <td>60s</td>\n",
       "      <td>61</td>\n",
       "      <td>female</td>\n",
       "      <td>0</td>\n",
       "      <td>no</td>\n",
       "      <td>yes</td>\n",
       "      <td>northwest</td>\n",
       "      <td>29.070</td>\n",
       "      <td>overweight</td>\n",
       "    </tr>\n",
       "  </tbody>\n",
       "</table>\n",
       "<p>1318 rows × 9 columns</p>\n",
       "</div>"
      ],
      "text/plain": [
       "     age group  age  gender  children has children smoker     region     bmi  \\\n",
       "0          40s   46  female         2          yes     no  northwest  19.950   \n",
       "1          60s   19  female         0           no     no  northwest  22.515   \n",
       "2        teens   18  female         0           no    yes  northeast  21.660   \n",
       "3          50s   55    male         1          yes     no  southwest  21.500   \n",
       "4          40s   43  female         2          yes    yes  northeast  20.045   \n",
       "...        ...  ...     ...       ...          ...    ...        ...     ...   \n",
       "1313       20s   21    male         0           no     no  northeast  27.360   \n",
       "1314       30s   34  female         1          yes     no  northwest  26.410   \n",
       "1315       40s   47  female         1          yes     no  northwest  29.545   \n",
       "1316       30s   36    male         3          yes     no  northeast  28.880   \n",
       "1317       60s   61  female         0           no    yes  northwest  29.070   \n",
       "\n",
       "     BMI Category  \n",
       "0          normal  \n",
       "1          normal  \n",
       "2          normal  \n",
       "3          normal  \n",
       "4          normal  \n",
       "...           ...  \n",
       "1313   overweight  \n",
       "1314   overweight  \n",
       "1315   overweight  \n",
       "1316   overweight  \n",
       "1317   overweight  \n",
       "\n",
       "[1318 rows x 9 columns]"
      ]
     },
     "execution_count": 25,
     "metadata": {},
     "output_type": "execute_result"
    }
   ],
   "source": [
    "#Here I have sorted the data based on BMI Category, and reset the index\n",
    "\n",
    "filtered_df.sort_values('BMI Category', ascending=True).reset_index(drop=True)"
   ]
  },
  {
   "cell_type": "code",
   "execution_count": 26,
   "id": "ca834cf3-163a-41f0-b1e0-39022b5a853f",
   "metadata": {},
   "outputs": [
    {
     "data": {
      "text/html": [
       "<div>\n",
       "<style scoped>\n",
       "    .dataframe tbody tr th:only-of-type {\n",
       "        vertical-align: middle;\n",
       "    }\n",
       "\n",
       "    .dataframe tbody tr th {\n",
       "        vertical-align: top;\n",
       "    }\n",
       "\n",
       "    .dataframe thead th {\n",
       "        text-align: right;\n",
       "    }\n",
       "</style>\n",
       "<table border=\"1\" class=\"dataframe\">\n",
       "  <thead>\n",
       "    <tr style=\"text-align: right;\">\n",
       "      <th></th>\n",
       "      <th>Age Group</th>\n",
       "      <th>Age</th>\n",
       "      <th>Gender</th>\n",
       "      <th>Children</th>\n",
       "      <th>Has Children</th>\n",
       "      <th>Smoker</th>\n",
       "      <th>Region</th>\n",
       "      <th>BMI</th>\n",
       "      <th>BMI Category</th>\n",
       "    </tr>\n",
       "  </thead>\n",
       "  <tbody>\n",
       "    <tr>\n",
       "      <th>0</th>\n",
       "      <td>60s</td>\n",
       "      <td>19</td>\n",
       "      <td>female</td>\n",
       "      <td>0</td>\n",
       "      <td>no</td>\n",
       "      <td>yes</td>\n",
       "      <td>southwest</td>\n",
       "      <td>27.900</td>\n",
       "      <td>overweight</td>\n",
       "    </tr>\n",
       "    <tr>\n",
       "      <th>1</th>\n",
       "      <td>teens</td>\n",
       "      <td>18</td>\n",
       "      <td>male</td>\n",
       "      <td>1</td>\n",
       "      <td>yes</td>\n",
       "      <td>no</td>\n",
       "      <td>southeast</td>\n",
       "      <td>33.770</td>\n",
       "      <td>obese</td>\n",
       "    </tr>\n",
       "    <tr>\n",
       "      <th>2</th>\n",
       "      <td>20s</td>\n",
       "      <td>28</td>\n",
       "      <td>male</td>\n",
       "      <td>3</td>\n",
       "      <td>yes</td>\n",
       "      <td>no</td>\n",
       "      <td>southeast</td>\n",
       "      <td>33.000</td>\n",
       "      <td>obese</td>\n",
       "    </tr>\n",
       "    <tr>\n",
       "      <th>3</th>\n",
       "      <td>30s</td>\n",
       "      <td>33</td>\n",
       "      <td>male</td>\n",
       "      <td>0</td>\n",
       "      <td>no</td>\n",
       "      <td>no</td>\n",
       "      <td>northwest</td>\n",
       "      <td>22.705</td>\n",
       "      <td>normal</td>\n",
       "    </tr>\n",
       "    <tr>\n",
       "      <th>4</th>\n",
       "      <td>30s</td>\n",
       "      <td>32</td>\n",
       "      <td>male</td>\n",
       "      <td>0</td>\n",
       "      <td>no</td>\n",
       "      <td>no</td>\n",
       "      <td>northwest</td>\n",
       "      <td>28.880</td>\n",
       "      <td>overweight</td>\n",
       "    </tr>\n",
       "    <tr>\n",
       "      <th>...</th>\n",
       "      <td>...</td>\n",
       "      <td>...</td>\n",
       "      <td>...</td>\n",
       "      <td>...</td>\n",
       "      <td>...</td>\n",
       "      <td>...</td>\n",
       "      <td>...</td>\n",
       "      <td>...</td>\n",
       "      <td>...</td>\n",
       "    </tr>\n",
       "    <tr>\n",
       "      <th>1333</th>\n",
       "      <td>50s</td>\n",
       "      <td>50</td>\n",
       "      <td>male</td>\n",
       "      <td>3</td>\n",
       "      <td>yes</td>\n",
       "      <td>no</td>\n",
       "      <td>northwest</td>\n",
       "      <td>30.970</td>\n",
       "      <td>obese</td>\n",
       "    </tr>\n",
       "    <tr>\n",
       "      <th>1334</th>\n",
       "      <td>teens</td>\n",
       "      <td>18</td>\n",
       "      <td>female</td>\n",
       "      <td>0</td>\n",
       "      <td>no</td>\n",
       "      <td>no</td>\n",
       "      <td>northeast</td>\n",
       "      <td>31.920</td>\n",
       "      <td>obese</td>\n",
       "    </tr>\n",
       "    <tr>\n",
       "      <th>1335</th>\n",
       "      <td>teens</td>\n",
       "      <td>18</td>\n",
       "      <td>female</td>\n",
       "      <td>0</td>\n",
       "      <td>no</td>\n",
       "      <td>no</td>\n",
       "      <td>southeast</td>\n",
       "      <td>36.850</td>\n",
       "      <td>obese</td>\n",
       "    </tr>\n",
       "    <tr>\n",
       "      <th>1336</th>\n",
       "      <td>20s</td>\n",
       "      <td>21</td>\n",
       "      <td>female</td>\n",
       "      <td>0</td>\n",
       "      <td>no</td>\n",
       "      <td>no</td>\n",
       "      <td>southwest</td>\n",
       "      <td>25.800</td>\n",
       "      <td>overweight</td>\n",
       "    </tr>\n",
       "    <tr>\n",
       "      <th>1337</th>\n",
       "      <td>60s</td>\n",
       "      <td>61</td>\n",
       "      <td>female</td>\n",
       "      <td>0</td>\n",
       "      <td>no</td>\n",
       "      <td>yes</td>\n",
       "      <td>northwest</td>\n",
       "      <td>29.070</td>\n",
       "      <td>overweight</td>\n",
       "    </tr>\n",
       "  </tbody>\n",
       "</table>\n",
       "<p>1318 rows × 9 columns</p>\n",
       "</div>"
      ],
      "text/plain": [
       "     Age Group  Age  Gender  Children Has Children Smoker     Region     BMI  \\\n",
       "0          60s   19  female         0           no    yes  southwest  27.900   \n",
       "1        teens   18    male         1          yes     no  southeast  33.770   \n",
       "2          20s   28    male         3          yes     no  southeast  33.000   \n",
       "3          30s   33    male         0           no     no  northwest  22.705   \n",
       "4          30s   32    male         0           no     no  northwest  28.880   \n",
       "...        ...  ...     ...       ...          ...    ...        ...     ...   \n",
       "1333       50s   50    male         3          yes     no  northwest  30.970   \n",
       "1334     teens   18  female         0           no     no  northeast  31.920   \n",
       "1335     teens   18  female         0           no     no  southeast  36.850   \n",
       "1336       20s   21  female         0           no     no  southwest  25.800   \n",
       "1337       60s   61  female         0           no    yes  northwest  29.070   \n",
       "\n",
       "     BMI Category  \n",
       "0      overweight  \n",
       "1           obese  \n",
       "2           obese  \n",
       "3          normal  \n",
       "4      overweight  \n",
       "...           ...  \n",
       "1333        obese  \n",
       "1334        obese  \n",
       "1335        obese  \n",
       "1336   overweight  \n",
       "1337   overweight  \n",
       "\n",
       "[1318 rows x 9 columns]"
      ]
     },
     "execution_count": 26,
     "metadata": {},
     "output_type": "execute_result"
    }
   ],
   "source": [
    "#Capitalize the column headers\n",
    "\n",
    "filtered_df = filtered_df.rename(columns={'age group':'Age Group', 'age':'Age','gender':'Gender','bmi':'BMI','children':'Children','region':'Region', 'smoker':'Smoker', 'has children':'Has Children'})\n",
    "filtered_df"
   ]
  },
  {
   "cell_type": "code",
   "execution_count": 27,
   "id": "55b2859b-ea98-4e3d-998c-fe78e4e4dacd",
   "metadata": {},
   "outputs": [],
   "source": [
    "filtered_df.to_csv('analysis_pipeline.csv', index=False)"
   ]
  },
  {
   "cell_type": "code",
   "execution_count": 28,
   "id": "f243b8db-cd74-464e-926d-c9ca1df1d521",
   "metadata": {},
   "outputs": [
    {
     "data": {
      "text/html": [
       "<div>\n",
       "<style scoped>\n",
       "    .dataframe tbody tr th:only-of-type {\n",
       "        vertical-align: middle;\n",
       "    }\n",
       "\n",
       "    .dataframe tbody tr th {\n",
       "        vertical-align: top;\n",
       "    }\n",
       "\n",
       "    .dataframe thead th {\n",
       "        text-align: right;\n",
       "    }\n",
       "</style>\n",
       "<table border=\"1\" class=\"dataframe\">\n",
       "  <thead>\n",
       "    <tr style=\"text-align: right;\">\n",
       "      <th></th>\n",
       "      <th>Age</th>\n",
       "      <th>Children</th>\n",
       "      <th>BMI</th>\n",
       "    </tr>\n",
       "  </thead>\n",
       "  <tbody>\n",
       "    <tr>\n",
       "      <th>count</th>\n",
       "      <td>111.000000</td>\n",
       "      <td>111.000000</td>\n",
       "      <td>111.000000</td>\n",
       "    </tr>\n",
       "    <tr>\n",
       "      <th>mean</th>\n",
       "      <td>38.882883</td>\n",
       "      <td>0.945946</td>\n",
       "      <td>30.033649</td>\n",
       "    </tr>\n",
       "    <tr>\n",
       "      <th>std</th>\n",
       "      <td>14.364564</td>\n",
       "      <td>1.077352</td>\n",
       "      <td>6.384783</td>\n",
       "    </tr>\n",
       "    <tr>\n",
       "      <th>min</th>\n",
       "      <td>18.000000</td>\n",
       "      <td>0.000000</td>\n",
       "      <td>19.095000</td>\n",
       "    </tr>\n",
       "    <tr>\n",
       "      <th>25%</th>\n",
       "      <td>26.000000</td>\n",
       "      <td>0.000000</td>\n",
       "      <td>25.080000</td>\n",
       "    </tr>\n",
       "    <tr>\n",
       "      <th>50%</th>\n",
       "      <td>40.000000</td>\n",
       "      <td>1.000000</td>\n",
       "      <td>28.880000</td>\n",
       "    </tr>\n",
       "    <tr>\n",
       "      <th>75%</th>\n",
       "      <td>49.500000</td>\n",
       "      <td>2.000000</td>\n",
       "      <td>34.650000</td>\n",
       "    </tr>\n",
       "    <tr>\n",
       "      <th>max</th>\n",
       "      <td>64.000000</td>\n",
       "      <td>3.000000</td>\n",
       "      <td>47.600000</td>\n",
       "    </tr>\n",
       "  </tbody>\n",
       "</table>\n",
       "</div>"
      ],
      "text/plain": [
       "              Age    Children         BMI\n",
       "count  111.000000  111.000000  111.000000\n",
       "mean    38.882883    0.945946   30.033649\n",
       "std     14.364564    1.077352    6.384783\n",
       "min     18.000000    0.000000   19.095000\n",
       "25%     26.000000    0.000000   25.080000\n",
       "50%     40.000000    1.000000   28.880000\n",
       "75%     49.500000    2.000000   34.650000\n",
       "max     64.000000    3.000000   47.600000"
      ]
     },
     "execution_count": 28,
     "metadata": {},
     "output_type": "execute_result"
    }
   ],
   "source": [
    "\n",
    "#To answer my research question, I want to know what effect smoking has on the BMI of women with children.  Here I wrangle the data so that I can see the min and max value of Children for women who smoke.\n",
    "\n",
    "confirm_children = filtered_df[(filtered_df['Gender'] == 'female') & (filtered_df['Smoker'] == 'yes')]\n",
    "confirm_children.describe()"
   ]
  },
  {
   "cell_type": "markdown",
   "id": "8ffad78d-f147-474b-bbb7-584a9a40d07f",
   "metadata": {},
   "source": [
    "# Task 3\n",
    "## Analysis"
   ]
  },
  {
   "cell_type": "markdown",
   "id": "11db4ea3-d98d-4141-86fd-7d9fb3f385e7",
   "metadata": {},
   "source": [
    "I begin by getting a count of the three BMI Categories (normal, overweight, and obese) and plotting it by age group (teens, 20s, 30s etc.).  From this we can clearly see two things about the population in the dataset: (1) The highest occurrence across all age ranges is \"obese\". (2) The age range with the most obese people is those in their 50s."
   ]
  },
  {
   "cell_type": "code",
   "execution_count": 29,
   "id": "92239fb5-8ef9-42e3-a5e0-d5b90a44a099",
   "metadata": {},
   "outputs": [
    {
     "data": {
      "text/plain": [
       "Text(0.5, 1.03, 'Frequency of BMI Category by Age Group')"
      ]
     },
     "execution_count": 29,
     "metadata": {},
     "output_type": "execute_result"
    },
    {
     "data": {
      "image/png": "[encoded data removed]",
      "text/plain": [
       "<Figure size 627.875x500 with 1 Axes>"
      ]
     },
     "metadata": {},
     "output_type": "display_data"
    }
   ],
   "source": [
    "import seaborn as sns\n",
    "\n",
    "age_order = ['teens', '20s', '30s', '40s', '50s', '60s']\n",
    "bmi_order = ['normal', 'overweight', 'obese']\n",
    "\n",
    "plot = sns.catplot(x='Age Group', \n",
    "                   hue='BMI Category', \n",
    "                   hue_order=bmi_order,\n",
    "                   data=filtered_df, \n",
    "                   kind='count', \n",
    "                   order=age_order)\n",
    "\n",
    "plot.set_axis_labels('Age Group', 'Frequency', fontsize=14)\n",
    "plot.fig.suptitle('Frequency of BMI Category by Age Group', fontsize=16, y=1.03)"
   ]
  },
  {
   "cell_type": "markdown",
   "id": "bf9a845f-3245-455e-93f6-da537b7e3775",
   "metadata": {},
   "source": [
    "Next I see what effect regional differences have on BMI. The dataset contains four regions of the United States (SW, SE, NW, NE).  Here we can see two things: (1) the highest frequency of obese individuals in the southeast.  And (2) It is individuals in their 20s who have the highest incidence of obesity, which goes against the other regions and overall trend."
   ]
  },
  {
   "cell_type": "code",
   "execution_count": 30,
   "id": "2d97ff3b-261e-4f54-8f11-4d5bdde09fd7",
   "metadata": {},
   "outputs": [
    {
     "data": {
      "text/plain": [
       "Text(0.5, 1.03, 'Frequency of BMI Category by Age Group by Geographic Region')"
      ]
     },
     "execution_count": 30,
     "metadata": {},
     "output_type": "execute_result"
    },
    {
     "data": {
      "image/png": "[encoded data removed]",
      "text/plain": [
       "<Figure size 1127.88x1000 with 4 Axes>"
      ]
     },
     "metadata": {},
     "output_type": "display_data"
    }
   ],
   "source": [
    "age_order = ['teens', '20s', '30s', '40s', '50s', '60s']\n",
    "bmi_order = ['normal', 'overweight', 'obese']\n",
    "\n",
    "plot = sns.catplot(x='Age Group', \n",
    "                   hue='BMI Category', \n",
    "                   data=filtered_df, \n",
    "                   kind='count', \n",
    "                   order=age_order, \n",
    "                   hue_order=bmi_order,\n",
    "                   col='Region', \n",
    "                   col_wrap=2)\n",
    "\n",
    "plot.set_xlabels('Age Group', fontsize=14)\n",
    "plot.set_ylabels('Frequency', fontsize=14)\n",
    "plot.fig.suptitle('Frequency of BMI Category by Age Group by Geographic Region', fontsize=16, y=1.03)\n"
   ]
  },
  {
   "cell_type": "markdown",
   "id": "cb422b5a-48fd-419e-ace6-1666dabe721a",
   "metadata": {},
   "source": [
    "By pivoting my data, I was able to create a heat map of average BMI by region.  This visualization confirms that the highest average BMI exists in the southeast region, which confirms results from the above visualization."
   ]
  },
  {
   "cell_type": "code",
   "execution_count": 31,
   "id": "346faebb-2fa9-481b-a03b-af8acc1b466a",
   "metadata": {},
   "outputs": [
    {
     "data": {
      "text/plain": [
       "Text(0.5, 1.0, 'Average BMI by Region')"
      ]
     },
     "execution_count": 31,
     "metadata": {},
     "output_type": "execute_result"
    },
    {
     "data": {
      "image/png": "[encoded data removed]",
      "text/plain": [
       "<Figure size 640x480 with 2 Axes>"
      ]
     },
     "metadata": {},
     "output_type": "display_data"
    }
   ],
   "source": [
    "pivot_table = filtered_df.pivot_table(values=\"BMI\", columns=\"Region\", aggfunc=\"mean\")\n",
    "\n",
    "sns.heatmap(filtered_df.pivot_table(values=\"BMI\", columns=\"Region\", aggfunc=\"mean\"),\n",
    "            annot=True,\n",
    "            cmap=\"coolwarm\",\n",
    "            cbar_kws={'label': 'Average BMI'})\\\n",
    "   .set_title('Average BMI by Region', fontsize=14)\n",
    "\n"
   ]
  },
  {
   "cell_type": "markdown",
   "id": "34d6b2d0-754c-44ae-81e6-43e220272f2b",
   "metadata": {},
   "source": [
    "We can see even when broken down by gender, the southeast has the highest average BMI for both men and women"
   ]
  },
  {
   "cell_type": "code",
   "execution_count": 32,
   "id": "8f04eebb-1ed4-46b9-93b6-362b4974adf4",
   "metadata": {},
   "outputs": [
    {
     "data": {
      "text/plain": [
       "Text(0.5, 1.0, 'Average BMI by Gender and Region')"
      ]
     },
     "execution_count": 32,
     "metadata": {},
     "output_type": "execute_result"
    },
    {
     "data": {
      "image/png": "[encoded data removed]",
      "text/plain": [
       "<Figure size 640x480 with 2 Axes>"
      ]
     },
     "metadata": {},
     "output_type": "display_data"
    }
   ],
   "source": [
    "sns.heatmap(filtered_df.pivot_table(values=\"BMI\", index=\"Gender\", columns=\"Region\", aggfunc=\"mean\"),\n",
    "            annot=True,\n",
    "            cmap=\"coolwarm\",\n",
    "            cbar_kws={'label': 'Average BMI'})\\\n",
    "   .set_title('Average BMI by Gender and Region', fontsize=14)\n",
    "\n"
   ]
  },
  {
   "cell_type": "markdown",
   "id": "76fcea3e-94fc-4efb-b6b0-aca08a7321aa",
   "metadata": {},
   "source": [
    "Here we can see another visualization that break down average BMI by region"
   ]
  },
  {
   "cell_type": "code",
   "execution_count": 33,
   "id": "8f632e6f-accb-4494-a4b0-f97881b742f5",
   "metadata": {},
   "outputs": [
    {
     "data": {
      "text/plain": [
       "Text(0.5, 1.0, 'BMI by Region')"
      ]
     },
     "execution_count": 33,
     "metadata": {},
     "output_type": "execute_result"
    },
    {
     "data": {
      "image/png": "[encoded data removed]",
      "text/plain": [
       "<Figure size 640x480 with 1 Axes>"
      ]
     },
     "metadata": {},
     "output_type": "display_data"
    }
   ],
   "source": [
    "sns.boxplot(data=filtered_df, x=\"Region\", y=\"BMI\")\n",
    "plt.xlabel(\"Region\", fontsize=14)\n",
    "plt.ylabel(\"BMI\", fontsize=14)\n",
    "plt.title(\"BMI by Region\", fontsize=16)\n"
   ]
  },
  {
   "cell_type": "markdown",
   "id": "10596fa2-ac40-4ae5-a584-95fb08c9778a",
   "metadata": {},
   "source": [
    "And here it is broken down by gender"
   ]
  },
  {
   "cell_type": "code",
   "execution_count": 34,
   "id": "b639d613-3704-48be-9a7c-1b41dd9f8af2",
   "metadata": {},
   "outputs": [
    {
     "data": {
      "text/plain": [
       "<matplotlib.legend.Legend at 0x18e3d7ad6c0>"
      ]
     },
     "execution_count": 34,
     "metadata": {},
     "output_type": "execute_result"
    },
    {
     "data": {
      "image/png": "[encoded data removed]",
      "text/plain": [
       "<Figure size 640x480 with 1 Axes>"
      ]
     },
     "metadata": {},
     "output_type": "display_data"
    }
   ],
   "source": [
    "sns.boxplot(data=filtered_df, x=\"Region\", y=\"BMI\", hue=\"Gender\")\n",
    "plt.xlabel(\"Region\", fontsize=14)\n",
    "plt.ylabel(\"BMI\", fontsize=14)\n",
    "plt.title(\"BMI by Region and Gender\", fontsize=16)\n",
    "plt.legend(title=\"Gender\")"
   ]
  },
  {
   "cell_type": "markdown",
   "id": "c7f5a55d-dcfa-4146-954f-9b9ad84691ad",
   "metadata": {},
   "source": [
    "Next I wanted to plot the datapoints for age and BMI on a jointplot. As it was overplotted, I plotted a random sample from the dataset.  From this, we can see that there is a trend that shows that an individual's BMI will increase as they get older.\n"
   ]
  },
  {
   "cell_type": "code",
   "execution_count": 63,
   "id": "41bf45d1-7671-464d-98a9-09d21b54e019",
   "metadata": {},
   "outputs": [
    {
     "data": {
      "text/plain": [
       "Text(0.5, 1.03, 'Age vs. BMI of Entire Population')"
      ]
     },
     "execution_count": 63,
     "metadata": {},
     "output_type": "execute_result"
    },
    {
     "data": {
      "image/png": "[encoded data removed]",
      "text/plain": [
       "<Figure size 600x600 with 3 Axes>"
      ]
     },
     "metadata": {},
     "output_type": "display_data"
    }
   ],
   "source": [
    "sampled_data = filtered_df.sample(n=250)  \n",
    "\n",
    "plot = sns.jointplot(x='Age',\n",
    "                     y='BMI', \n",
    "                     data=sampled_data, \n",
    "                     kind='reg', \n",
    "                     scatter_kws={'s': 2})\n",
    "\n",
    "\n",
    "plot.set_axis_labels('Age', 'BMI', fontsize=14)\n",
    "plot.fig.suptitle('Age vs. BMI of Entire Population', fontsize=16, y=1.03)"
   ]
  },
  {
   "cell_type": "markdown",
   "id": "0d801336-7b34-46e4-877d-7955bc4882c2",
   "metadata": {},
   "source": [
    "I wanted to next see if there is any difference between smokers and non-smokers.  First we look at non-smokers and see that the trend of the previous graph holds true: BMI increases with age"
   ]
  },
  {
   "cell_type": "code",
   "execution_count": 62,
   "id": "9b082984-0d48-444e-aea8-12b22722f3a0",
   "metadata": {},
   "outputs": [
    {
     "data": {
      "text/plain": [
       "Text(0.5, 1.03, 'Age vs. BMI of Non-Smokers')"
      ]
     },
     "execution_count": 62,
     "metadata": {},
     "output_type": "execute_result"
    },
    {
     "data": {
      "image/png": "[encoded data removed]",
      "text/plain": [
       "<Figure size 600x600 with 3 Axes>"
      ]
     },
     "metadata": {},
     "output_type": "display_data"
    }
   ],
   "source": [
    "\n",
    " \n",
    "smokers_df = filtered_df[filtered_df['Smoker'] == 'no']\n",
    "sampled_data = smokers_df.sample(n=250) \n",
    "plot = sns.jointplot(x='Age',\n",
    "                         y='BMI', \n",
    "                         data=sampled_data, \n",
    "                         kind='reg', \n",
    "                         scatter_kws={'s': 2})\n",
    "\n",
    "\n",
    "plot.set_axis_labels('Age', 'BMI', fontsize=14)\n",
    "plot.fig.suptitle('Age vs. BMI of Non-Smokers', fontsize=16, y=1.03)\n"
   ]
  },
  {
   "cell_type": "markdown",
   "id": "37a08610-c1d3-4a89-9055-14416dbc1157",
   "metadata": {},
   "source": [
    "Next I filtered by smokers, and the resulting graph shows that the trend is noticeably reduced.  It seems that smoking helps an individual keep their weight steady as they age."
   ]
  },
  {
   "cell_type": "code",
   "execution_count": 64,
   "id": "7d8ed358-1eaf-4cdc-8fb1-bafd3bde775e",
   "metadata": {},
   "outputs": [
    {
     "data": {
      "text/plain": [
       "Text(0.5, 1.03, 'Age vs. BMI for Smokers')"
      ]
     },
     "execution_count": 64,
     "metadata": {},
     "output_type": "execute_result"
    },
    {
     "data": {
      "image/png": "[encoded data removed]",
      "text/plain": [
       "<Figure size 600x600 with 3 Axes>"
      ]
     },
     "metadata": {},
     "output_type": "display_data"
    }
   ],
   "source": [
    "# A joint plot showing age vs bmi for smokers \n",
    "\n",
    "smokers_df = filtered_df[filtered_df['Smoker'] == 'yes']\n",
    "\n",
    "plot = sns.jointplot(x='Age', \n",
    "                     y='BMI', \n",
    "                     data=smokers_df, \n",
    "                     kind='reg', \n",
    "                     scatter_kws={'s': 4})\n",
    "\n",
    "plot.set_axis_labels('Age', 'BMI', fontsize=14)\n",
    "plot.fig.suptitle('Age vs. BMI for Smokers', fontsize=16, y=1.03)"
   ]
  },
  {
   "cell_type": "markdown",
   "id": "4d703894-1ac1-4edc-a3a5-59ac35f98aa8",
   "metadata": {},
   "source": [
    "I was now curious whether the effect of smoking is different for men and women.  First I filtered by smokers who are male.  For males, we can see that smoking actually ever so slightly decreases BMI as individuals age."
   ]
  },
  {
   "cell_type": "code",
   "execution_count": 65,
   "id": "d123ae75-86c8-44dc-80ad-02618264053f",
   "metadata": {},
   "outputs": [
    {
     "data": {
      "text/plain": [
       "Text(0.5, 1.03, 'Age vs. BMI of Smokers Who Are Male')"
      ]
     },
     "execution_count": 65,
     "metadata": {},
     "output_type": "execute_result"
    },
    {
     "data": {
      "image/png": "[encoded data removed]",
      "text/plain": [
       "<Figure size 600x600 with 3 Axes>"
      ]
     },
     "metadata": {},
     "output_type": "display_data"
    }
   ],
   "source": [
    "#smokers who are male\n",
    "\n",
    "male_smokers_df = filtered_df[(filtered_df['Smoker'] == 'yes') & (filtered_df['Gender'] == 'male')]\n",
    "\n",
    "plot = sns.jointplot(x='Age', \n",
    "               y='BMI', \n",
    "               data=male_smokers_df, \n",
    "               kind='reg', \n",
    "               scatter_kws={'s': 5}, \n",
    "               color='navy')\n",
    "\n",
    "plot.set_axis_labels('Age', 'BMI', fontsize=14)\n",
    "plot.fig.suptitle('Age vs. BMI of Smokers Who Are Male', fontsize=16, y=1.03)\n",
    "\n",
    "\n"
   ]
  },
  {
   "cell_type": "markdown",
   "id": "7e86edd2-571b-4825-8ea3-80722a537190",
   "metadata": {},
   "source": [
    "Next we filter for smokers who are female.  Interestingly, we see that smoking in the female population does not have the same effect as in the male population, and women on average increase their BMI as they age."
   ]
  },
  {
   "cell_type": "code",
   "execution_count": 66,
   "id": "fb8b9a7b-2334-4c5b-abcf-3a7d04f70060",
   "metadata": {},
   "outputs": [
    {
     "data": {
      "text/plain": [
       "Text(0.5, 1.03, 'Age vs. BMI of Smokers Who Are Female')"
      ]
     },
     "execution_count": 66,
     "metadata": {},
     "output_type": "execute_result"
    },
    {
     "data": {
      "image/png": "[encoded data removed]",
      "text/plain": [
       "<Figure size 600x600 with 3 Axes>"
      ]
     },
     "metadata": {},
     "output_type": "display_data"
    }
   ],
   "source": [
    "#smokers who are female\n",
    "\n",
    "female_smokers_df = filtered_df[(filtered_df['Smoker'] == 'yes') & (filtered_df['Gender'] == 'female')]\n",
    "\n",
    "plot = sns.jointplot(x='Age', \n",
    "              y='BMI', \n",
    "              data=female_smokers_df, \n",
    "              kind='reg', \n",
    "              scatter_kws={'s': 5}, \n",
    "              color='maroon')\n",
    "\n",
    "plot.set_axis_labels('Age', 'BMI', fontsize=14)\n",
    "plot.fig.suptitle('Age vs. BMI of Smokers Who Are Female', fontsize=16, y=1.03)"
   ]
  },
  {
   "cell_type": "markdown",
   "id": "88926cfd-7965-4540-bc81-f37b01cc9bde",
   "metadata": {},
   "source": [
    "I had a hunch that the number of children may be responsible for this increase in BMI.  Here we can see that indeed the BMI of a female individual tends to increase with the number of children."
   ]
  },
  {
   "cell_type": "code",
   "execution_count": 40,
   "id": "8348b91c-ba3a-4581-970f-39c5ee373b80",
   "metadata": {},
   "outputs": [
    {
     "data": {
      "text/plain": [
       "Text(95.72222222222221, 0.5, 'Number of Children')"
      ]
     },
     "execution_count": 40,
     "metadata": {},
     "output_type": "execute_result"
    },
    {
     "data": {
      "image/png": "[encoded data removed]",
      "text/plain": [
       "<Figure size 1000x600 with 2 Axes>"
      ]
     },
     "metadata": {},
     "output_type": "display_data"
    }
   ],
   "source": [
    "\n",
    "filtered_data = filtered_df[(filtered_df['Smoker'] == 'no') & (filtered_df['Gender'] == 'female')]\n",
    "\n",
    "grouped_data = filtered_data.groupby(['Children'])['BMI'].mean().reset_index()\n",
    "pivot_data = grouped_data.pivot_table(values='BMI', index='Children')\n",
    "\n",
    "plt.figure(figsize=(10, 6))\n",
    "sns.heatmap(pivot_data, annot=True, cmap='coolwarm', fmt='.2f', linewidths=.5, cbar_kws={'label': 'Average BMI'})\n",
    "\n",
    "\n",
    "plt.title('Average BMI by Number of Children for Females Who Do Not Smoke ')\n",
    "plt.ylabel('Number of Children')\n"
   ]
  },
  {
   "cell_type": "markdown",
   "id": "440d4f33-fef7-4f56-a6c1-252bd5be9633",
   "metadata": {},
   "source": [
    "Now I want to see what effect smoking has on a woman's BMI."
   ]
  },
  {
   "cell_type": "code",
   "execution_count": 41,
   "id": "4a3df992-5ca3-4ef2-a603-6851f0282cc6",
   "metadata": {},
   "outputs": [
    {
     "data": {
      "text/plain": [
       "Text(95.72222222222221, 0.5, 'Number of Children')"
      ]
     },
     "execution_count": 41,
     "metadata": {},
     "output_type": "execute_result"
    },
    {
     "data": {
      "image/png": "[encoded data removed]",
      "text/plain": [
       "<Figure size 1000x600 with 2 Axes>"
      ]
     },
     "metadata": {},
     "output_type": "display_data"
    }
   ],
   "source": [
    "filtered_data = filtered_df[(filtered_df['Smoker'] == 'yes') & (filtered_df['Gender'] == 'female')]\n",
    "\n",
    "grouped_data = filtered_data.groupby(['Children'])['BMI'].mean().reset_index()\n",
    "pivot_data = grouped_data.pivot_table(values='BMI', index='Children')\n",
    "\n",
    "plt.figure(figsize=(10, 6))\n",
    "sns.heatmap(pivot_data, annot=True, cmap='coolwarm', fmt='.2f', linewidths=.5, cbar_kws={'label': 'Average BMI'})\n",
    "\n",
    "\n",
    "plt.title('Average BMI for Females Who Smoke by Number of Children')\n",
    "plt.ylabel('Number of Children')"
   ]
  },
  {
   "cell_type": "markdown",
   "id": "9e4b9928-95f5-433f-bf8e-3f1a788ed624",
   "metadata": {},
   "source": [
    "## Conclusion\n",
    "\n",
    "There are a number of interesting insights we can take away from the data.\n",
    "\n",
    "1. Region effects BMI.  The instances of obesity, as well as the average obesity, is highest in the Southeast.  So, if an individual lives in the southeast, it is more likely they will be obese.  There could be any number of reasons for this.  Perhaps in the southeast there are cultural differences, including in the type of food that is eaten.  People in the south east may be more sedentary as perhaps their cities are less walkable than say New York in the northeast\n",
    "2. An individual is their 50s is more likely to be obese than any other age group. Likely this is due to the fact as people become less active the older they get.  Interstingly, this trend does not hold true if we only look at the Southeast region.  In the Southeast, the highest incidence of obesity occurs in individuals in their 20s.  From this I conclude that obesity is affecting individuals starting at a younger age than compared to other regions.  Thus, \n",
    "3. BMI tends to increase in individuals as they age.  However, smoking reduces this effect, which allows me to conclude that smoking helps people keep their BMIs down as they get older.  However, this effect only seems to effect males. For women, their BMI continues to increase with age.  On further examination, the reason for the difference is that women's BMI increases with the number of children. However, smoking still has an effect: women with children who smoke, despite their BMI increasing with number of chilren, still have a lower overall BMI than women who don't smoke.\n",
    "\n",
    "Main conclusions:\n",
    "1. BMI is most prevalent in the southeast of the United States\n",
    "2. Age and, for women, the number of children increases BMI\n",
    "3. Smoking decreases BMI in both men and women "
   ]
  },
  {
   "cell_type": "code",
   "execution_count": null,
   "id": "2ca468f7-9b53-43c7-ad73-044e2af4ae31",
   "metadata": {},
   "outputs": [],
   "source": []
  }
 ],
 "metadata": {
  "kernelspec": {
   "display_name": "Python 3 (ipykernel)",
   "language": "python",
   "name": "python3"
  },
  "language_info": {
   "codemirror_mode": {
    "name": "ipython",
    "version": 3
   },
   "file_extension": ".py",
   "mimetype": "text/x-python",
   "name": "python",
   "nbconvert_exporter": "python",
   "pygments_lexer": "ipython3",
   "version": "3.10.8"
  }
 },
 "nbformat": 4,
 "nbformat_minor": 5
}
